{
 "cells": [
  {
   "cell_type": "markdown",
   "metadata": {
    "colab_type": "text",
    "id": "view-in-github"
   },
   "source": [
    "<a href=\"https://colab.research.google.com/github/LorenzoPigozzi/Deep_Learning_Exercises/blob/main/Project_DL.ipynb\" target=\"_parent\"><img src=\"https://colab.research.google.com/assets/colab-badge.svg\" alt=\"Open In Colab\"/></a>"
   ]
  },
  {
   "cell_type": "markdown",
   "metadata": {
    "id": "7VsY8M4nlrGe"
   },
   "source": [
    "# Deep Learning Project\n",
    "## Mask detection\n",
    "\n",
    "Group members:\n",
    "- Lorenzo Pigozzi\t--- m20200745\n",
    "- Marta\n",
    "- Gustavo\n",
    "- Salim\n",
    "\n",
    "\n"
   ]
  },
  {
   "cell_type": "markdown",
   "metadata": {},
   "source": [
    "Sources : https://www.kaggle.com/greynolan/face-mask-detection-vgg19"
   ]
  },
  {
   "cell_type": "markdown",
   "metadata": {
    "id": "rJe7dGKkKFGB"
   },
   "source": [
    "# New Section"
   ]
  },
  {
   "cell_type": "markdown",
   "metadata": {
    "id": "ujYp8uilmSD1"
   },
   "source": [
    "### Steps\n",
    "1.\tImporting data and libraries  \n",
    "2.\tBrief data preprocessing       \n",
    "3.\tModel architecture \n",
    "4.  Model assessment      \n",
    "5.  Deployment"
   ]
  },
  {
   "cell_type": "markdown",
   "metadata": {
    "id": "witmie_SnYza"
   },
   "source": [
    "### 1. Importing data and libraries <a class=\"anchor\" id=\"1\"></a>"
   ]
  },
  {
   "cell_type": "code",
   "execution_count": null,
   "metadata": {
    "id": "exD3P8mzl8Ji"
   },
   "outputs": [],
   "source": [
    "# importing needed libraries\n",
    "import pandas as pd\n",
    "import numpy as np\n",
    "import keras\n",
    "import os, shutil\n",
    "import io\n",
    "\n",
    "# keras\n",
    "from keras.models import Sequential\n",
    "from keras.layers import Conv2D\n",
    "from keras.layers import MaxPooling2D\n",
    "from keras.layers import Flatten\n",
    "from keras.layers import Dense\n",
    "from keras.preprocessing.image import ImageDataGenerator\n",
    "from keras import optimizers\n",
    "from keras import callbacks \n",
    "\n",
    "# sklearn\n",
    "from sklearn.metrics import classification_report, confusion_matrix\n",
    "\n",
    "# matplotlib\n",
    "import matplotlib.pyplot as plt"
   ]
  },
  {
   "cell_type": "code",
   "execution_count": null,
   "metadata": {
    "colab": {
     "base_uri": "https://localhost:8080/"
    },
    "id": "EY7xQ9QYRjD4",
    "outputId": "09a7c199-4fe1-477f-f68f-055ed6a290f5"
   },
   "outputs": [
    {
     "name": "stdout",
     "output_type": "stream",
     "text": [
      "Drive already mounted at /content/gdrive; to attempt to forcibly remount, call drive.mount(\"/content/gdrive\", force_remount=True).\n",
      "MyDrive\n"
     ]
    }
   ],
   "source": [
    "# for downloading the pictures\n",
    "from google.colab import drive\n",
    "drive.mount('/content/gdrive')\n",
    "!ls '/content/gdrive'  # take a look at the Google Drive content"
   ]
  },
  {
   "cell_type": "code",
   "execution_count": null,
   "metadata": {
    "id": "u-B_cC56k4b3"
   },
   "outputs": [],
   "source": [
    "######## defining the paths\n",
    "original_masks = \"gdrive/MyDrive/Project Deeplearning/Pics_with_masks/withMaskDataset/withMaskDataset/\"\n",
    "original_faces = \"gdrive/MyDrive/Project Deeplearning/Images/\""
   ]
  },
  {
   "cell_type": "code",
   "execution_count": null,
   "metadata": {
    "id": "LHZ_RAJhZMqa"
   },
   "outputs": [],
   "source": [
    "# import os\n",
    "# !ls /content/gdrive/MyDrive/Project_Deeplearning\n",
    "base_dir = 'gdrive/MyDrive/Project Deeplearning/'\n",
    "\n",
    "# creationof the folder\n",
    "# os.mkdir(train_dir)\n",
    "# setting the direction of the train\n",
    "train_dir = os.path.join(base_dir, 'train')\n",
    "\n",
    "# creationof the folder\n",
    "# os.mkdir(validation_dir)\n",
    "# setting the direction of the train\n",
    " validation_dir=os.path.join(base_dir, 'validation')\n",
    "\n",
    "# creationof the folder\n",
    "# os.mkdir(test_dir)\n",
    "# setting the direction of the train\n",
    "test_dir=os.path.join(base_dir, 'test')"
   ]
  },
  {
   "cell_type": "code",
   "execution_count": null,
   "metadata": {
    "id": "k-0i2BXld-KM"
   },
   "outputs": [],
   "source": [
    "train_masks_dir=os.path.join(train_dir, 'masks')\n",
    "# os.mkdir(train_masks_dir)\n",
    "train_no_masks_dir=os.path.join(train_dir, 'no_masks')\n",
    "# os.mkdir(train_no_masks_dir)\n",
    "\n",
    "validation_masks_dir=os.path.join(validation_dir, 'masks')\n",
    "# os.mkdir(validation_masks_dir)\n",
    "validation_no_masks_dir=os.path.join(validation_dir, 'no_masks')\n",
    "# os.mkdir(validation_no_masks_dir)\n",
    "\n",
    "test_masks_dir=os.path.join(test_dir, 'masks')\n",
    "# os.mkdir(test_masks_dir)\n",
    "test_no_masks_dir=os.path.join(test_dir, 'no_masks')\n",
    "# os.mkdir(test_no_masks_dir)"
   ]
  },
  {
   "cell_type": "code",
   "execution_count": null,
   "metadata": {
    "id": "b6FDR_J5fH0s"
   },
   "outputs": [],
   "source": [
    "## Train = 70, Val 20, Test 10\n",
    "\n",
    "#fnames = ['Image{}.jpg'.format(i) for i in range(0,990)]\n",
    "#for fname in fnames:\n",
    "#  src=os.path.join(original_masks, fname)\n",
    "#  dst=os.path.join(train_masks_dir, fname)\n",
    "#  shutil.copyfile(src,dst)\n",
    "\n",
    "# fnames = ['Image{}.jpg'.format(i) for i in range(990,1273)]\n",
    "# for fname in fnames:\n",
    "#   src=os.path.join(original_masks, fname)\n",
    "#   dst=os.path.join(validation_masks_dir, fname)\n",
    "#   shutil.copyfile(src,dst)\n",
    "\n",
    "# fnames = ['Image{}.jpg'.format(i) for i in range(1273,1415)]\n",
    "# for fname in fnames:\n",
    "#   src=os.path.join(original_masks, fname)\n",
    "#   dst=os.path.join(test_masks_dir, fname)\n",
    "#   shutil.copyfile(src,dst)\n",
    "\n",
    "\n",
    "\n",
    "# fnames = ['Image_Faces{}.jpg'.format(i) for i in range(0,990)]\n",
    "# for fname in fnames:\n",
    "#   src=os.path.join(original_faces, fname)\n",
    "#   dst=os.path.join(train_no_masks_dir, fname)\n",
    "#   shutil.copyfile(src,dst)\n",
    "\n",
    "# fnames = ['Image_Faces{}.jpg'.format(i) for i in range(990,1273)]\n",
    "# for fname in fnames:\n",
    "#   src=os.path.join(original_faces, fname)\n",
    "#   dst=os.path.join(validation_no_masks_dir, fname)\n",
    "#   shutil.copyfile(src,dst)\n",
    "\n",
    "# fnames = ['Image_Faces{}.jpg'.format(i) for i in range(1273,1415)]\n",
    "# for fname in fnames:\n",
    "#   src=os.path.join(original_faces, fname)\n",
    "#   dst=os.path.join(test_no_masks_dir, fname)\n",
    "#   shutil.copyfile(src,dst)"
   ]
  },
  {
   "cell_type": "markdown",
   "metadata": {
    "id": "Rzzn2L3GM6sU"
   },
   "source": [
    "Beginning"
   ]
  },
  {
   "cell_type": "markdown",
   "metadata": {
    "id": "3k8HUA5ZoOpA"
   },
   "source": [
    "### 2 Brief data preprocessing "
   ]
  },
  {
   "cell_type": "code",
   "execution_count": null,
   "metadata": {
    "id": "Mw9HnGrTl8kH"
   },
   "outputs": [],
   "source": [
    "# Sequential model | Create linear stack of layers\n",
    "model = Sequential()\n",
    "\n",
    "# Convolutional layer | Conv2D\n",
    "model.add(Conv2D(32, (3, 3), activation='relu', input_shape=(64,64, 3)))\n",
    "model.add(MaxPooling2D((2, 2)))\n",
    "# model.add(Conv2D(64, (3, 3), activation='relu'))\n",
    "# model.add(MaxPooling2D((2, 2)))\n",
    "\n",
    "# Flatten output of Conv\n",
    "model.add(Flatten())\n",
    "# Hidden layer\n",
    "model.add(Dense(32, activation='relu'))\n",
    "# Output layer\n",
    "model.add(Dense(1, activation='sigmoid'))"
   ]
  },
  {
   "cell_type": "code",
   "execution_count": null,
   "metadata": {
    "id": "vjTMhvaBNulG"
   },
   "outputs": [],
   "source": [
    "# compiling the model\n",
    "model.compile(optimizer = 'adam', \n",
    "              loss = 'binary_crossentropy',\n",
    "              metrics = 'accuracy')"
   ]
  },
  {
   "cell_type": "code",
   "execution_count": null,
   "metadata": {
    "colab": {
     "base_uri": "https://localhost:8080/"
    },
    "id": "8KFLXQTYNvCn",
    "outputId": "53e7079a-0760-4049-893d-e242200b19eb"
   },
   "outputs": [
    {
     "name": "stdout",
     "output_type": "stream",
     "text": [
      "Model: \"sequential_3\"\n",
      "_________________________________________________________________\n",
      "Layer (type)                 Output Shape              Param #   \n",
      "=================================================================\n",
      "conv2d_3 (Conv2D)            (None, 62, 62, 32)        896       \n",
      "_________________________________________________________________\n",
      "max_pooling2d_3 (MaxPooling2 (None, 31, 31, 32)        0         \n",
      "_________________________________________________________________\n",
      "flatten_3 (Flatten)          (None, 30752)             0         \n",
      "_________________________________________________________________\n",
      "dense_6 (Dense)              (None, 32)                984096    \n",
      "_________________________________________________________________\n",
      "dense_7 (Dense)              (None, 1)                 33        \n",
      "=================================================================\n",
      "Total params: 985,025\n",
      "Trainable params: 985,025\n",
      "Non-trainable params: 0\n",
      "_________________________________________________________________\n"
     ]
    }
   ],
   "source": [
    "# visualizing the model structure\n",
    "model.summary()"
   ]
  },
  {
   "cell_type": "code",
   "execution_count": null,
   "metadata": {
    "id": "e0qmHJ3TI37t"
   },
   "outputs": [],
   "source": [
    "# scaling the data\n",
    "train_datagen=ImageDataGenerator(rescale = 1./255)\n",
    "validation_datagen=ImageDataGenerator(rescale = 1./255)\n",
    "test_datagen=ImageDataGenerator(rescale = 1./255)"
   ]
  },
  {
   "cell_type": "code",
   "execution_count": null,
   "metadata": {
    "colab": {
     "base_uri": "https://localhost:8080/"
    },
    "id": "BD2vBwm9J6cJ",
    "outputId": "8b0b9429-d86c-4da1-aafc-351544c2987e"
   },
   "outputs": [
    {
     "name": "stdout",
     "output_type": "stream",
     "text": [
      "Found 1980 images belonging to 2 classes.\n",
      "Found 566 images belonging to 2 classes.\n",
      "Found 284 images belonging to 2 classes.\n"
     ]
    }
   ],
   "source": [
    "# importing the images\n",
    "# flow when numpy array input, flow_from_directory when the inputs are directly images\n",
    "\n",
    "training_set = train_datagen.flow_from_directory('/content/gdrive/MyDrive/Project Deeplearning/train',\n",
    "                                                 target_size = (64, 64),\n",
    "                                                 batch_size = 20,\n",
    "                                                 class_mode = 'binary')\n",
    "\n",
    "\n",
    "validation_set = validation_datagen.flow_from_directory('/content/gdrive/MyDrive/Project Deeplearning/validation', \n",
    "                                                        target_size = (64, 64),\n",
    "                                                        batch_size = 20,\n",
    "                                                        class_mode = 'binary')\n",
    "\n",
    "test_set = test_datagen.flow_from_directory('/content/gdrive/MyDrive/Project Deeplearning/test',\n",
    "                                            target_size = (64, 64),\n",
    "                                            batch_size = 20,\n",
    "                                            class_mode = 'binary',\n",
    "                                            shuffle = False)\n"
   ]
  },
  {
   "cell_type": "code",
   "execution_count": null,
   "metadata": {
    "id": "UEEfG2fzgxLW"
   },
   "outputs": [],
   "source": [
    "# for i in validation_set:\n",
    "#   BytesIO(b'i') \n",
    "\n",
    "# BytesIO(b'0x7fbac98c5530') "
   ]
  },
  {
   "cell_type": "markdown",
   "metadata": {
    "id": "YAS0TlCLlK7r"
   },
   "source": [
    "# Problem :\n",
    "we have to solve the problem of the fitting phase.\n",
    "error raising with the method fit_generator, probably issue with reading image from validation set.\n",
    "Erro r: \" UnidentifiedImageError: cannot identify image file <_io.BytesIO object at 0x7fbac2e8c830> \""
   ]
  },
  {
   "cell_type": "code",
   "execution_count": null,
   "metadata": {
    "colab": {
     "base_uri": "https://localhost:8080/",
     "height": 1000
    },
    "id": "uxF4aRPyJaAT",
    "outputId": "6e6f96fd-fee7-4392-ca33-c7a18e13f3e7"
   },
   "outputs": [
    {
     "name": "stderr",
     "output_type": "stream",
     "text": [
      "/usr/local/lib/python3.7/dist-packages/tensorflow/python/keras/engine/training.py:1844: UserWarning: `Model.fit_generator` is deprecated and will be removed in a future version. Please use `Model.fit`, which supports generators.\n",
      "  warnings.warn('`Model.fit_generator` is deprecated and '\n"
     ]
    },
    {
     "name": "stdout",
     "output_type": "stream",
     "text": [
      "82/99 [=======================>......] - ETA: 7s - loss: 0.9713 - accuracy: 0.5546"
     ]
    },
    {
     "ename": "UnknownError",
     "evalue": "ignored",
     "output_type": "error",
     "traceback": [
      "\u001b[0;31m---------------------------------------------------------------------------\u001b[0m",
      "\u001b[0;31mUnknownError\u001b[0m                              Traceback (most recent call last)",
      "\u001b[0;32m<ipython-input-82-173b6878b868>\u001b[0m in \u001b[0;36m<module>\u001b[0;34m()\u001b[0m\n\u001b[1;32m      5\u001b[0m                          \u001b[0mepochs\u001b[0m \u001b[0;34m=\u001b[0m \u001b[0;36m1\u001b[0m\u001b[0;34m,\u001b[0m\u001b[0;34m\u001b[0m\u001b[0;34m\u001b[0m\u001b[0m\n\u001b[1;32m      6\u001b[0m                          \u001b[0mvalidation_data\u001b[0m \u001b[0;34m=\u001b[0m \u001b[0mvalidation_set\u001b[0m\u001b[0;34m,\u001b[0m\u001b[0;34m\u001b[0m\u001b[0;34m\u001b[0m\u001b[0m\n\u001b[0;32m----> 7\u001b[0;31m                          validation_steps = 28)\n\u001b[0m",
      "\u001b[0;32m/usr/local/lib/python3.7/dist-packages/tensorflow/python/keras/engine/training.py\u001b[0m in \u001b[0;36mfit_generator\u001b[0;34m(self, generator, steps_per_epoch, epochs, verbose, callbacks, validation_data, validation_steps, validation_freq, class_weight, max_queue_size, workers, use_multiprocessing, shuffle, initial_epoch)\u001b[0m\n\u001b[1;32m   1859\u001b[0m         \u001b[0muse_multiprocessing\u001b[0m\u001b[0;34m=\u001b[0m\u001b[0muse_multiprocessing\u001b[0m\u001b[0;34m,\u001b[0m\u001b[0;34m\u001b[0m\u001b[0;34m\u001b[0m\u001b[0m\n\u001b[1;32m   1860\u001b[0m         \u001b[0mshuffle\u001b[0m\u001b[0;34m=\u001b[0m\u001b[0mshuffle\u001b[0m\u001b[0;34m,\u001b[0m\u001b[0;34m\u001b[0m\u001b[0;34m\u001b[0m\u001b[0m\n\u001b[0;32m-> 1861\u001b[0;31m         initial_epoch=initial_epoch)\n\u001b[0m\u001b[1;32m   1862\u001b[0m \u001b[0;34m\u001b[0m\u001b[0m\n\u001b[1;32m   1863\u001b[0m   def evaluate_generator(self,\n",
      "\u001b[0;32m/usr/local/lib/python3.7/dist-packages/tensorflow/python/keras/engine/training.py\u001b[0m in \u001b[0;36mfit\u001b[0;34m(self, x, y, batch_size, epochs, verbose, callbacks, validation_split, validation_data, shuffle, class_weight, sample_weight, initial_epoch, steps_per_epoch, validation_steps, validation_batch_size, validation_freq, max_queue_size, workers, use_multiprocessing)\u001b[0m\n\u001b[1;32m   1098\u001b[0m                 _r=1):\n\u001b[1;32m   1099\u001b[0m               \u001b[0mcallbacks\u001b[0m\u001b[0;34m.\u001b[0m\u001b[0mon_train_batch_begin\u001b[0m\u001b[0;34m(\u001b[0m\u001b[0mstep\u001b[0m\u001b[0;34m)\u001b[0m\u001b[0;34m\u001b[0m\u001b[0;34m\u001b[0m\u001b[0m\n\u001b[0;32m-> 1100\u001b[0;31m               \u001b[0mtmp_logs\u001b[0m \u001b[0;34m=\u001b[0m \u001b[0mself\u001b[0m\u001b[0;34m.\u001b[0m\u001b[0mtrain_function\u001b[0m\u001b[0;34m(\u001b[0m\u001b[0miterator\u001b[0m\u001b[0;34m)\u001b[0m\u001b[0;34m\u001b[0m\u001b[0;34m\u001b[0m\u001b[0m\n\u001b[0m\u001b[1;32m   1101\u001b[0m               \u001b[0;32mif\u001b[0m \u001b[0mdata_handler\u001b[0m\u001b[0;34m.\u001b[0m\u001b[0mshould_sync\u001b[0m\u001b[0;34m:\u001b[0m\u001b[0;34m\u001b[0m\u001b[0;34m\u001b[0m\u001b[0m\n\u001b[1;32m   1102\u001b[0m                 \u001b[0mcontext\u001b[0m\u001b[0;34m.\u001b[0m\u001b[0masync_wait\u001b[0m\u001b[0;34m(\u001b[0m\u001b[0;34m)\u001b[0m\u001b[0;34m\u001b[0m\u001b[0;34m\u001b[0m\u001b[0m\n",
      "\u001b[0;32m/usr/local/lib/python3.7/dist-packages/tensorflow/python/eager/def_function.py\u001b[0m in \u001b[0;36m__call__\u001b[0;34m(self, *args, **kwds)\u001b[0m\n\u001b[1;32m    826\u001b[0m     \u001b[0mtracing_count\u001b[0m \u001b[0;34m=\u001b[0m \u001b[0mself\u001b[0m\u001b[0;34m.\u001b[0m\u001b[0mexperimental_get_tracing_count\u001b[0m\u001b[0;34m(\u001b[0m\u001b[0;34m)\u001b[0m\u001b[0;34m\u001b[0m\u001b[0;34m\u001b[0m\u001b[0m\n\u001b[1;32m    827\u001b[0m     \u001b[0;32mwith\u001b[0m \u001b[0mtrace\u001b[0m\u001b[0;34m.\u001b[0m\u001b[0mTrace\u001b[0m\u001b[0;34m(\u001b[0m\u001b[0mself\u001b[0m\u001b[0;34m.\u001b[0m\u001b[0m_name\u001b[0m\u001b[0;34m)\u001b[0m \u001b[0;32mas\u001b[0m \u001b[0mtm\u001b[0m\u001b[0;34m:\u001b[0m\u001b[0;34m\u001b[0m\u001b[0;34m\u001b[0m\u001b[0m\n\u001b[0;32m--> 828\u001b[0;31m       \u001b[0mresult\u001b[0m \u001b[0;34m=\u001b[0m \u001b[0mself\u001b[0m\u001b[0;34m.\u001b[0m\u001b[0m_call\u001b[0m\u001b[0;34m(\u001b[0m\u001b[0;34m*\u001b[0m\u001b[0margs\u001b[0m\u001b[0;34m,\u001b[0m \u001b[0;34m**\u001b[0m\u001b[0mkwds\u001b[0m\u001b[0;34m)\u001b[0m\u001b[0;34m\u001b[0m\u001b[0;34m\u001b[0m\u001b[0m\n\u001b[0m\u001b[1;32m    829\u001b[0m       \u001b[0mcompiler\u001b[0m \u001b[0;34m=\u001b[0m \u001b[0;34m\"xla\"\u001b[0m \u001b[0;32mif\u001b[0m \u001b[0mself\u001b[0m\u001b[0;34m.\u001b[0m\u001b[0m_experimental_compile\u001b[0m \u001b[0;32melse\u001b[0m \u001b[0;34m\"nonXla\"\u001b[0m\u001b[0;34m\u001b[0m\u001b[0;34m\u001b[0m\u001b[0m\n\u001b[1;32m    830\u001b[0m       \u001b[0mnew_tracing_count\u001b[0m \u001b[0;34m=\u001b[0m \u001b[0mself\u001b[0m\u001b[0;34m.\u001b[0m\u001b[0mexperimental_get_tracing_count\u001b[0m\u001b[0;34m(\u001b[0m\u001b[0;34m)\u001b[0m\u001b[0;34m\u001b[0m\u001b[0;34m\u001b[0m\u001b[0m\n",
      "\u001b[0;32m/usr/local/lib/python3.7/dist-packages/tensorflow/python/eager/def_function.py\u001b[0m in \u001b[0;36m_call\u001b[0;34m(self, *args, **kwds)\u001b[0m\n\u001b[1;32m    853\u001b[0m       \u001b[0;31m# In this case we have created variables on the first call, so we run the\u001b[0m\u001b[0;34m\u001b[0m\u001b[0;34m\u001b[0m\u001b[0;34m\u001b[0m\u001b[0m\n\u001b[1;32m    854\u001b[0m       \u001b[0;31m# defunned version which is guaranteed to never create variables.\u001b[0m\u001b[0;34m\u001b[0m\u001b[0;34m\u001b[0m\u001b[0;34m\u001b[0m\u001b[0m\n\u001b[0;32m--> 855\u001b[0;31m       \u001b[0;32mreturn\u001b[0m \u001b[0mself\u001b[0m\u001b[0;34m.\u001b[0m\u001b[0m_stateless_fn\u001b[0m\u001b[0;34m(\u001b[0m\u001b[0;34m*\u001b[0m\u001b[0margs\u001b[0m\u001b[0;34m,\u001b[0m \u001b[0;34m**\u001b[0m\u001b[0mkwds\u001b[0m\u001b[0;34m)\u001b[0m  \u001b[0;31m# pylint: disable=not-callable\u001b[0m\u001b[0;34m\u001b[0m\u001b[0;34m\u001b[0m\u001b[0m\n\u001b[0m\u001b[1;32m    856\u001b[0m     \u001b[0;32melif\u001b[0m \u001b[0mself\u001b[0m\u001b[0;34m.\u001b[0m\u001b[0m_stateful_fn\u001b[0m \u001b[0;32mis\u001b[0m \u001b[0;32mnot\u001b[0m \u001b[0;32mNone\u001b[0m\u001b[0;34m:\u001b[0m\u001b[0;34m\u001b[0m\u001b[0;34m\u001b[0m\u001b[0m\n\u001b[1;32m    857\u001b[0m       \u001b[0;31m# Release the lock early so that multiple threads can perform the call\u001b[0m\u001b[0;34m\u001b[0m\u001b[0;34m\u001b[0m\u001b[0;34m\u001b[0m\u001b[0m\n",
      "\u001b[0;32m/usr/local/lib/python3.7/dist-packages/tensorflow/python/eager/function.py\u001b[0m in \u001b[0;36m__call__\u001b[0;34m(self, *args, **kwargs)\u001b[0m\n\u001b[1;32m   2941\u001b[0m        filtered_flat_args) = self._maybe_define_function(args, kwargs)\n\u001b[1;32m   2942\u001b[0m     return graph_function._call_flat(\n\u001b[0;32m-> 2943\u001b[0;31m         filtered_flat_args, captured_inputs=graph_function.captured_inputs)  # pylint: disable=protected-access\n\u001b[0m\u001b[1;32m   2944\u001b[0m \u001b[0;34m\u001b[0m\u001b[0m\n\u001b[1;32m   2945\u001b[0m   \u001b[0;34m@\u001b[0m\u001b[0mproperty\u001b[0m\u001b[0;34m\u001b[0m\u001b[0;34m\u001b[0m\u001b[0m\n",
      "\u001b[0;32m/usr/local/lib/python3.7/dist-packages/tensorflow/python/eager/function.py\u001b[0m in \u001b[0;36m_call_flat\u001b[0;34m(self, args, captured_inputs, cancellation_manager)\u001b[0m\n\u001b[1;32m   1917\u001b[0m       \u001b[0;31m# No tape is watching; skip to running the function.\u001b[0m\u001b[0;34m\u001b[0m\u001b[0;34m\u001b[0m\u001b[0;34m\u001b[0m\u001b[0m\n\u001b[1;32m   1918\u001b[0m       return self._build_call_outputs(self._inference_function.call(\n\u001b[0;32m-> 1919\u001b[0;31m           ctx, args, cancellation_manager=cancellation_manager))\n\u001b[0m\u001b[1;32m   1920\u001b[0m     forward_backward = self._select_forward_and_backward_functions(\n\u001b[1;32m   1921\u001b[0m         \u001b[0margs\u001b[0m\u001b[0;34m,\u001b[0m\u001b[0;34m\u001b[0m\u001b[0;34m\u001b[0m\u001b[0m\n",
      "\u001b[0;32m/usr/local/lib/python3.7/dist-packages/tensorflow/python/eager/function.py\u001b[0m in \u001b[0;36mcall\u001b[0;34m(self, ctx, args, cancellation_manager)\u001b[0m\n\u001b[1;32m    558\u001b[0m               \u001b[0minputs\u001b[0m\u001b[0;34m=\u001b[0m\u001b[0margs\u001b[0m\u001b[0;34m,\u001b[0m\u001b[0;34m\u001b[0m\u001b[0;34m\u001b[0m\u001b[0m\n\u001b[1;32m    559\u001b[0m               \u001b[0mattrs\u001b[0m\u001b[0;34m=\u001b[0m\u001b[0mattrs\u001b[0m\u001b[0;34m,\u001b[0m\u001b[0;34m\u001b[0m\u001b[0;34m\u001b[0m\u001b[0m\n\u001b[0;32m--> 560\u001b[0;31m               ctx=ctx)\n\u001b[0m\u001b[1;32m    561\u001b[0m         \u001b[0;32melse\u001b[0m\u001b[0;34m:\u001b[0m\u001b[0;34m\u001b[0m\u001b[0;34m\u001b[0m\u001b[0m\n\u001b[1;32m    562\u001b[0m           outputs = execute.execute_with_cancellation(\n",
      "\u001b[0;32m/usr/local/lib/python3.7/dist-packages/tensorflow/python/eager/execute.py\u001b[0m in \u001b[0;36mquick_execute\u001b[0;34m(op_name, num_outputs, inputs, attrs, ctx, name)\u001b[0m\n\u001b[1;32m     58\u001b[0m     \u001b[0mctx\u001b[0m\u001b[0;34m.\u001b[0m\u001b[0mensure_initialized\u001b[0m\u001b[0;34m(\u001b[0m\u001b[0;34m)\u001b[0m\u001b[0;34m\u001b[0m\u001b[0;34m\u001b[0m\u001b[0m\n\u001b[1;32m     59\u001b[0m     tensors = pywrap_tfe.TFE_Py_Execute(ctx._handle, device_name, op_name,\n\u001b[0;32m---> 60\u001b[0;31m                                         inputs, attrs, num_outputs)\n\u001b[0m\u001b[1;32m     61\u001b[0m   \u001b[0;32mexcept\u001b[0m \u001b[0mcore\u001b[0m\u001b[0;34m.\u001b[0m\u001b[0m_NotOkStatusException\u001b[0m \u001b[0;32mas\u001b[0m \u001b[0me\u001b[0m\u001b[0;34m:\u001b[0m\u001b[0;34m\u001b[0m\u001b[0;34m\u001b[0m\u001b[0m\n\u001b[1;32m     62\u001b[0m     \u001b[0;32mif\u001b[0m \u001b[0mname\u001b[0m \u001b[0;32mis\u001b[0m \u001b[0;32mnot\u001b[0m \u001b[0;32mNone\u001b[0m\u001b[0;34m:\u001b[0m\u001b[0;34m\u001b[0m\u001b[0;34m\u001b[0m\u001b[0m\n",
      "\u001b[0;31mUnknownError\u001b[0m:  UnidentifiedImageError: cannot identify image file <_io.BytesIO object at 0x7fbac2e8c830>\nTraceback (most recent call last):\n\n  File \"/usr/local/lib/python3.7/dist-packages/tensorflow/python/ops/script_ops.py\", line 249, in __call__\n    ret = func(*args)\n\n  File \"/usr/local/lib/python3.7/dist-packages/tensorflow/python/autograph/impl/api.py\", line 620, in wrapper\n    return func(*args, **kwargs)\n\n  File \"/usr/local/lib/python3.7/dist-packages/tensorflow/python/data/ops/dataset_ops.py\", line 891, in generator_py_func\n    values = next(generator_state.get_iterator(iterator_id))\n\n  File \"/usr/local/lib/python3.7/dist-packages/tensorflow/python/keras/engine/data_adapter.py\", line 807, in wrapped_generator\n    for data in generator_fn():\n\n  File \"/usr/local/lib/python3.7/dist-packages/tensorflow/python/keras/engine/data_adapter.py\", line 933, in generator_fn\n    yield x[i]\n\n  File \"/usr/local/lib/python3.7/dist-packages/keras_preprocessing/image/iterator.py\", line 65, in __getitem__\n    return self._get_batches_of_transformed_samples(index_array)\n\n  File \"/usr/local/lib/python3.7/dist-packages/keras_preprocessing/image/iterator.py\", line 230, in _get_batches_of_transformed_samples\n    interpolation=self.interpolation)\n\n  File \"/usr/local/lib/python3.7/dist-packages/keras_preprocessing/image/utils.py\", line 114, in load_img\n    img = pil_image.open(io.BytesIO(f.read()))\n\n  File \"/usr/local/lib/python3.7/dist-packages/PIL/Image.py\", line 2862, in open\n    \"cannot identify image file %r\" % (filename if filename else fp)\n\nPIL.UnidentifiedImageError: cannot identify image file <_io.BytesIO object at 0x7fbac2e8c830>\n\n\n\t [[{{node PyFunc}}]]\n\t [[IteratorGetNext]] [Op:__inference_train_function_7583]\n\nFunction call stack:\ntrain_function\n"
     ]
    }
   ],
   "source": [
    "# fitting the model\n",
    "\n",
    "hist=model.fit_generator(training_set,\n",
    "                         steps_per_epoch = 99,\n",
    "                         epochs = 1,\n",
    "                         validation_data = validation_set,\n",
    "                         validation_steps = 28)"
   ]
  },
  {
   "cell_type": "code",
   "execution_count": null,
   "metadata": {
    "id": "MEf9Fbs2fKB-"
   },
   "outputs": [],
   "source": [
    "# possible solution to solve the problem above\n",
    "\n",
    "from io import BytesIO\n",
    "BytesIO(b\"0x7fbac83f9350\")"
   ]
  },
  {
   "cell_type": "code",
   "execution_count": null,
   "metadata": {
    "id": "CIgdlLQhl8dE"
   },
   "outputs": [],
   "source": [
    "# # checking the information of the batch we split\n",
    "# # checking if it makes sense with the size of the images\n",
    "\n",
    "# batchX, batchy = train_iterator.next()\n",
    "# print('Train Batch shape=%s, min=%.3f, max=%.3f' % (batchX.shape, batchX.min(), batchX.max()))\n",
    "\n",
    "# batchX, batchy = validation_iterator.next()\n",
    "# print('Validation Batch shape=%s, min=%.3f, max=%.3f' % (batchX.shape, batchX.min(), batchX.max()))\n",
    "\n",
    "# batchX, batchy = test_iterator.next()\n",
    "# print('Test Batch shape=%s, min=%.3f, max=%.3f' % (batchX.shape, batchX.min(), batchX.max()))"
   ]
  },
  {
   "cell_type": "code",
   "execution_count": null,
   "metadata": {
    "id": "KAyMIJOBJb6y"
   },
   "outputs": [],
   "source": [
    "# FINALLY OUR MODEL PREDICT\n",
    "\n",
    "Y_pred = model.predict_generator(test_set, 63)    # ceil(num_of_test_samples / batch_size)\n",
    "\n",
    "# changing the result as True and False\n",
    "Y_pred = (Y_pred>0.5)\n",
    "\n",
    "\n",
    "\n",
    "# if you have the last version of tensorflow, the predict_generator is deprecated.\n",
    "# you should use the predict method.\n",
    "# if you do not have the last version, you must use predict_generator"
   ]
  },
  {
   "cell_type": "markdown",
   "metadata": {
    "id": "FjSdHDW0ViQ5"
   },
   "source": [
    "## Prediction assessment"
   ]
  },
  {
   "cell_type": "code",
   "execution_count": null,
   "metadata": {
    "id": "sv1KJDNaJb9_"
   },
   "outputs": [],
   "source": [
    "# confusion matrix\n",
    "print('Confusion matrix')\n",
    "print(confusion_matrix(test_set.classes, Y_pred))"
   ]
  },
  {
   "cell_type": "code",
   "execution_count": null,
   "metadata": {
    "id": "BSN7fMXvVtC4"
   },
   "outputs": [],
   "source": [
    "# classification report\n",
    "print('Classification Report')\n",
    "target_names = ['No Mask', 'Mask']\n",
    "print(classification_report(test_set.classes, Y_pred, target_names=target_names))"
   ]
  },
  {
   "cell_type": "code",
   "execution_count": null,
   "metadata": {
    "id": "7kG6Y1PkYLZG"
   },
   "outputs": [],
   "source": [
    "# plotting\n",
    "\n",
    "# displaying the accuracy and loss over the training epochs\n",
    "acc = hist.history['accuracy']\n",
    "val_acc = hist.history['val_accuracy']\n",
    "loss = hist.history['loss']\n",
    "val_loss = hist.history['val_loss']\n",
    "\n",
    "epochs = range(1, len(acc) +1)\n",
    "\n",
    "plt.plot(epochs, acc, 'bo', label='Training acc')\n",
    "plt.plot(epochs, val_acc, 'b', label='Validation acc')\n",
    "plt.title('Training and validation accuracy')\n",
    "plt.legend()\n",
    "plt.figure()\n",
    "\n",
    "plt.plot(epochs, loss, 'bo', label='Training loss')\n",
    "plt.plot(epochs, val_loss, 'b', label='Validation loss')\n",
    "plt.title('Training and validation loss')\n",
    "plt.legend()\n",
    "\n",
    "plt.show()"
   ]
  },
  {
   "cell_type": "markdown",
   "metadata": {
    "id": "InD-J_p3V7nU"
   },
   "source": [
    "# Next Steps : improving the NN"
   ]
  },
  {
   "cell_type": "code",
   "execution_count": null,
   "metadata": {
    "id": "EW6c7zH_pXEg"
   },
   "outputs": [],
   "source": [
    "### Code for DATA AUGMENTATION\n",
    "\n",
    "train_datagen = ImageDataGenerator(rescale = 1./255,\n",
    "                                   shear_range = 0.2,\n",
    "                                   zoom_range = 0.2,\n",
    "                                   horizontal_flip = True)\n",
    "# test set only rescaled\n",
    "test_datagen = ImageDataGenerator(rescale = 1./255)"
   ]
  },
  {
   "cell_type": "code",
   "execution_count": null,
   "metadata": {
    "id": "j4izwvWulNRk"
   },
   "outputs": [],
   "source": [
    "# Set callbacks to analyze the best number of epochs | Try 25,50, and 100\n",
    "\n",
    "  earlystopping = callbacks.EarlyStopping(monitor =\"val_loss\",  \n",
    "                                          mode =\"min\", patience = 5,  \n",
    "                                          restore_best_weights = True) \n",
    "  \n",
    "  history = model.fit(partial_images, partial_labels, batch_size = 128,  \n",
    "                      epochs = 25, validation_data =(X_val, y_val),  \n",
    "                      callbacks =[earlystopping]) "
   ]
  },
  {
   "cell_type": "code",
   "execution_count": null,
   "metadata": {
    "id": "-zUbCNS2joBT"
   },
   "outputs": [],
   "source": [
    "# Train the model for XXXXXX epochs\n",
    "#model.fit_generator(train_iterator, steps_per_epoch=len(train_iterator), epochs=XXXXXXX)"
   ]
  },
  {
   "cell_type": "code",
   "execution_count": null,
   "metadata": {
    "id": "JllaZG-DjCFv"
   },
   "outputs": [],
   "source": [
    "# Evaluate the model\n",
    "_, acc = model.evaluate_generator(test_iterator, steps=len(test_iterator), verbose=0)\n",
    "print('Test Accuracy: %.3f' % (acc * 100))"
   ]
  },
  {
   "cell_type": "markdown",
   "metadata": {
    "id": "Af3cjs7aoxsP"
   },
   "source": [
    "### 4. Model assessment"
   ]
  },
  {
   "cell_type": "code",
   "execution_count": null,
   "metadata": {
    "id": "CGQ9yM3al8nh"
   },
   "outputs": [],
   "source": []
  },
  {
   "cell_type": "code",
   "execution_count": null,
   "metadata": {
    "id": "TlRU4Wj9l8x-"
   },
   "outputs": [],
   "source": []
  },
  {
   "cell_type": "markdown",
   "metadata": {
    "id": "NMAoTI6do7Ht"
   },
   "source": [
    "### 5. Deployment"
   ]
  },
  {
   "cell_type": "code",
   "execution_count": null,
   "metadata": {
    "id": "Fy0Q2hcDo-Qv"
   },
   "outputs": [],
   "source": []
  },
  {
   "cell_type": "code",
   "execution_count": null,
   "metadata": {
    "id": "NVb4OWHAo-hs"
   },
   "outputs": [],
   "source": []
  },
  {
   "cell_type": "markdown",
   "metadata": {
    "id": "3pBPw1RvmGgf"
   },
   "source": [
    "Example\n",
    "https://machinelearningmastery.com/how-to-perform-face-detection-with-classical-and-deep-learning-methods-in-python-with-keras/\n",
    "\n",
    "Problems websites\n",
    "\n",
    "https://colab.research.google.com/github/google/eng-edu/blob/master/ml/pc/exercises/image_classification_part1.ipynb\n",
    "\n",
    "https://github.com/python-pillow/Pillow/issues/1006"
   ]
  }
 ],
 "metadata": {
  "colab": {
   "collapsed_sections": [],
   "include_colab_link": true,
   "name": "Project DL.ipynb",
   "provenance": [],
   "toc_visible": true
  },
  "kernelspec": {
   "display_name": "Python 3",
   "language": "python",
   "name": "python3"
  },
  "language_info": {
   "codemirror_mode": {
    "name": "ipython",
    "version": 3
   },
   "file_extension": ".py",
   "mimetype": "text/x-python",
   "name": "python",
   "nbconvert_exporter": "python",
   "pygments_lexer": "ipython3",
   "version": "3.8.5"
  }
 },
 "nbformat": 4,
 "nbformat_minor": 1
}
