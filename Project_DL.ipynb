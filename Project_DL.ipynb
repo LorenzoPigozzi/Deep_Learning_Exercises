{
  "nbformat": 4,
  "nbformat_minor": 0,
  "metadata": {
    "colab": {
      "name": "Project DL.ipynb",
      "provenance": [],
      "collapsed_sections": [],
      "toc_visible": true,
      "include_colab_link": true
    },
    "kernelspec": {
      "name": "python3",
      "display_name": "Python 3"
    }
  },
  "cells": [
    {
      "cell_type": "markdown",
      "metadata": {
        "id": "view-in-github",
        "colab_type": "text"
      },
      "source": [
        "<a href=\"https://colab.research.google.com/github/LorenzoPigozzi/Deep_Learning_Exercises/blob/main/Project_DL.ipynb\" target=\"_parent\"><img src=\"https://colab.research.google.com/assets/colab-badge.svg\" alt=\"Open In Colab\"/></a>"
      ]
    },
    {
      "cell_type": "markdown",
      "metadata": {
        "id": "7VsY8M4nlrGe"
      },
      "source": [
        "# Deep Learning Project\r\n",
        "## Mask detection\r\n",
        "\r\n",
        "Group members:\r\n",
        "- Lorenzo Pigozzi\t--- m20200745\r\n",
        "- Marta\r\n",
        "- Gustavo\r\n",
        "- Salim\r\n",
        "\r\n",
        "\r\n"
      ]
    },
    {
      "cell_type": "markdown",
      "metadata": {
        "id": "rJe7dGKkKFGB"
      },
      "source": [
        "# New Section"
      ]
    },
    {
      "cell_type": "markdown",
      "metadata": {
        "id": "ujYp8uilmSD1"
      },
      "source": [
        "### Steps\r\n",
        "1.\tImporting data and libraries  \r\n",
        "2.\tBrief data preprocessing       \r\n",
        "3.\tModel architecture \r\n",
        "4.  Model assessment      \r\n",
        "5.  Deployment"
      ]
    },
    {
      "cell_type": "markdown",
      "metadata": {
        "id": "witmie_SnYza"
      },
      "source": [
        "### 1. Importing data and libraries <a class=\"anchor\" id=\"1\"></a>"
      ]
    },
    {
      "cell_type": "code",
      "metadata": {
        "id": "exD3P8mzl8Ji"
      },
      "source": [
        "# importing needed libraries\r\n",
        "import pandas as pd\r\n",
        "import numpy as np\r\n",
        "import keras\r\n",
        "import os, shutil\r\n",
        "import io\r\n",
        "\r\n",
        "# keras\r\n",
        "from keras.models import Sequential\r\n",
        "from keras.layers import Conv2D\r\n",
        "from keras.layers import MaxPooling2D\r\n",
        "from keras.layers import Flatten\r\n",
        "from keras.layers import Dense\r\n",
        "from keras.preprocessing.image import ImageDataGenerator\r\n",
        "from keras import optimizers\r\n",
        "from keras import callbacks \r\n",
        "\r\n",
        "# sklearn\r\n",
        "from sklearn.metrics import classification_report, confusion_matrix\r\n",
        "\r\n",
        "# matplotlib\r\n",
        "import matplotlib.pyplot as plt"
      ],
      "execution_count": null,
      "outputs": []
    },
    {
      "cell_type": "code",
      "metadata": {
        "colab": {
          "base_uri": "https://localhost:8080/"
        },
        "id": "EY7xQ9QYRjD4",
        "outputId": "09a7c199-4fe1-477f-f68f-055ed6a290f5"
      },
      "source": [
        "# for downloading the pictures\r\n",
        "from google.colab import drive\r\n",
        "drive.mount('/content/gdrive')\r\n",
        "!ls '/content/gdrive'  # take a look at the Google Drive content"
      ],
      "execution_count": null,
      "outputs": [
        {
          "output_type": "stream",
          "text": [
            "Drive already mounted at /content/gdrive; to attempt to forcibly remount, call drive.mount(\"/content/gdrive\", force_remount=True).\n",
            "MyDrive\n"
          ],
          "name": "stdout"
        }
      ]
    },
    {
      "cell_type": "code",
      "metadata": {
        "id": "u-B_cC56k4b3"
      },
      "source": [
        "######## defining the paths\r\n",
        "original_masks = \"gdrive/MyDrive/Project Deeplearning/Pics_with_masks/withMaskDataset/withMaskDataset/\"\r\n",
        "original_faces = \"gdrive/MyDrive/Project Deeplearning/Images/\""
      ],
      "execution_count": null,
      "outputs": []
    },
    {
      "cell_type": "code",
      "metadata": {
        "id": "LHZ_RAJhZMqa"
      },
      "source": [
        "# import os\r\n",
        "# !ls /content/gdrive/MyDrive/Project_Deeplearning\r\n",
        "base_dir = 'gdrive/MyDrive/Project Deeplearning/'\r\n",
        "\r\n",
        "# creationof the folder\r\n",
        "# os.mkdir(train_dir)\r\n",
        "# setting the direction of the train\r\n",
        "train_dir = os.path.join(base_dir, 'train')\r\n",
        "\r\n",
        "# creationof the folder\r\n",
        "# os.mkdir(validation_dir)\r\n",
        "# setting the direction of the train\r\n",
        " validation_dir=os.path.join(base_dir, 'validation')\r\n",
        "\r\n",
        "# creationof the folder\r\n",
        "# os.mkdir(test_dir)\r\n",
        "# setting the direction of the train\r\n",
        "test_dir=os.path.join(base_dir, 'test')"
      ],
      "execution_count": null,
      "outputs": []
    },
    {
      "cell_type": "code",
      "metadata": {
        "id": "k-0i2BXld-KM"
      },
      "source": [
        "train_masks_dir=os.path.join(train_dir, 'masks')\r\n",
        "# os.mkdir(train_masks_dir)\r\n",
        "train_no_masks_dir=os.path.join(train_dir, 'no_masks')\r\n",
        "# os.mkdir(train_no_masks_dir)\r\n",
        "\r\n",
        "validation_masks_dir=os.path.join(validation_dir, 'masks')\r\n",
        "# os.mkdir(validation_masks_dir)\r\n",
        "validation_no_masks_dir=os.path.join(validation_dir, 'no_masks')\r\n",
        "# os.mkdir(validation_no_masks_dir)\r\n",
        "\r\n",
        "test_masks_dir=os.path.join(test_dir, 'masks')\r\n",
        "# os.mkdir(test_masks_dir)\r\n",
        "test_no_masks_dir=os.path.join(test_dir, 'no_masks')\r\n",
        "# os.mkdir(test_no_masks_dir)"
      ],
      "execution_count": null,
      "outputs": []
    },
    {
      "cell_type": "code",
      "metadata": {
        "id": "b6FDR_J5fH0s"
      },
      "source": [
        "## Train = 70, Val 20, Test 10\r\n",
        "\r\n",
        "#fnames = ['Image{}.jpg'.format(i) for i in range(0,990)]\r\n",
        "#for fname in fnames:\r\n",
        "#  src=os.path.join(original_masks, fname)\r\n",
        "#  dst=os.path.join(train_masks_dir, fname)\r\n",
        "#  shutil.copyfile(src,dst)\r\n",
        "\r\n",
        "# fnames = ['Image{}.jpg'.format(i) for i in range(990,1273)]\r\n",
        "# for fname in fnames:\r\n",
        "#   src=os.path.join(original_masks, fname)\r\n",
        "#   dst=os.path.join(validation_masks_dir, fname)\r\n",
        "#   shutil.copyfile(src,dst)\r\n",
        "\r\n",
        "# fnames = ['Image{}.jpg'.format(i) for i in range(1273,1415)]\r\n",
        "# for fname in fnames:\r\n",
        "#   src=os.path.join(original_masks, fname)\r\n",
        "#   dst=os.path.join(test_masks_dir, fname)\r\n",
        "#   shutil.copyfile(src,dst)\r\n",
        "\r\n",
        "\r\n",
        "\r\n",
        "# fnames = ['Image_Faces{}.jpg'.format(i) for i in range(0,990)]\r\n",
        "# for fname in fnames:\r\n",
        "#   src=os.path.join(original_faces, fname)\r\n",
        "#   dst=os.path.join(train_no_masks_dir, fname)\r\n",
        "#   shutil.copyfile(src,dst)\r\n",
        "\r\n",
        "# fnames = ['Image_Faces{}.jpg'.format(i) for i in range(990,1273)]\r\n",
        "# for fname in fnames:\r\n",
        "#   src=os.path.join(original_faces, fname)\r\n",
        "#   dst=os.path.join(validation_no_masks_dir, fname)\r\n",
        "#   shutil.copyfile(src,dst)\r\n",
        "\r\n",
        "# fnames = ['Image_Faces{}.jpg'.format(i) for i in range(1273,1415)]\r\n",
        "# for fname in fnames:\r\n",
        "#   src=os.path.join(original_faces, fname)\r\n",
        "#   dst=os.path.join(test_no_masks_dir, fname)\r\n",
        "#   shutil.copyfile(src,dst)"
      ],
      "execution_count": null,
      "outputs": []
    },
    {
      "cell_type": "markdown",
      "metadata": {
        "id": "Rzzn2L3GM6sU"
      },
      "source": [
        "Beginning"
      ]
    },
    {
      "cell_type": "markdown",
      "metadata": {
        "id": "3k8HUA5ZoOpA"
      },
      "source": [
        "### 2 Brief data preprocessing "
      ]
    },
    {
      "cell_type": "code",
      "metadata": {
        "id": "Mw9HnGrTl8kH"
      },
      "source": [
        "# Sequential model | Create linear stack of layers\r\n",
        "model = Sequential()\r\n",
        "\r\n",
        "# Convolutional layer | Conv2D\r\n",
        "model.add(Conv2D(32, (3, 3), activation='relu', input_shape=(64,64, 3)))\r\n",
        "model.add(MaxPooling2D((2, 2)))\r\n",
        "# model.add(Conv2D(64, (3, 3), activation='relu'))\r\n",
        "# model.add(MaxPooling2D((2, 2)))\r\n",
        "\r\n",
        "# Flatten output of Conv\r\n",
        "model.add(Flatten())\r\n",
        "# Hidden layer\r\n",
        "model.add(Dense(32, activation='relu'))\r\n",
        "# Output layer\r\n",
        "model.add(Dense(1, activation='sigmoid'))"
      ],
      "execution_count": null,
      "outputs": []
    },
    {
      "cell_type": "code",
      "metadata": {
        "id": "vjTMhvaBNulG"
      },
      "source": [
        "# compiling the model\r\n",
        "model.compile(optimizer = 'adam', \r\n",
        "              loss = 'binary_crossentropy',\r\n",
        "              metrics = 'accuracy')"
      ],
      "execution_count": null,
      "outputs": []
    },
    {
      "cell_type": "code",
      "metadata": {
        "colab": {
          "base_uri": "https://localhost:8080/"
        },
        "id": "8KFLXQTYNvCn",
        "outputId": "53e7079a-0760-4049-893d-e242200b19eb"
      },
      "source": [
        "# visualizing the model structure\r\n",
        "model.summary()"
      ],
      "execution_count": null,
      "outputs": [
        {
          "output_type": "stream",
          "text": [
            "Model: \"sequential_3\"\n",
            "_________________________________________________________________\n",
            "Layer (type)                 Output Shape              Param #   \n",
            "=================================================================\n",
            "conv2d_3 (Conv2D)            (None, 62, 62, 32)        896       \n",
            "_________________________________________________________________\n",
            "max_pooling2d_3 (MaxPooling2 (None, 31, 31, 32)        0         \n",
            "_________________________________________________________________\n",
            "flatten_3 (Flatten)          (None, 30752)             0         \n",
            "_________________________________________________________________\n",
            "dense_6 (Dense)              (None, 32)                984096    \n",
            "_________________________________________________________________\n",
            "dense_7 (Dense)              (None, 1)                 33        \n",
            "=================================================================\n",
            "Total params: 985,025\n",
            "Trainable params: 985,025\n",
            "Non-trainable params: 0\n",
            "_________________________________________________________________\n"
          ],
          "name": "stdout"
        }
      ]
    },
    {
      "cell_type": "code",
      "metadata": {
        "id": "e0qmHJ3TI37t"
      },
      "source": [
        "# scaling the data\r\n",
        "train_datagen=ImageDataGenerator(rescale = 1./255)\r\n",
        "validation_datagen=ImageDataGenerator(rescale = 1./255)\r\n",
        "test_datagen=ImageDataGenerator(rescale = 1./255)"
      ],
      "execution_count": null,
      "outputs": []
    },
    {
      "cell_type": "code",
      "metadata": {
        "colab": {
          "base_uri": "https://localhost:8080/"
        },
        "id": "BD2vBwm9J6cJ",
        "outputId": "8b0b9429-d86c-4da1-aafc-351544c2987e"
      },
      "source": [
        "# importing the images\r\n",
        "# flow when numpy array input, flow_from_directory when the inputs are directly images\r\n",
        "\r\n",
        "training_set = train_datagen.flow_from_directory('/content/gdrive/MyDrive/Project Deeplearning/train',\r\n",
        "                                                 target_size = (64, 64),\r\n",
        "                                                 batch_size = 20,\r\n",
        "                                                 class_mode = 'binary')\r\n",
        "\r\n",
        "\r\n",
        "validation_set = validation_datagen.flow_from_directory('/content/gdrive/MyDrive/Project Deeplearning/validation', \r\n",
        "                                                        target_size = (64, 64),\r\n",
        "                                                        batch_size = 20,\r\n",
        "                                                        class_mode = 'binary')\r\n",
        "\r\n",
        "test_set = test_datagen.flow_from_directory('/content/gdrive/MyDrive/Project Deeplearning/test',\r\n",
        "                                            target_size = (64, 64),\r\n",
        "                                            batch_size = 20,\r\n",
        "                                            class_mode = 'binary',\r\n",
        "                                            shuffle = False)\r\n"
      ],
      "execution_count": null,
      "outputs": [
        {
          "output_type": "stream",
          "text": [
            "Found 1980 images belonging to 2 classes.\n",
            "Found 566 images belonging to 2 classes.\n",
            "Found 284 images belonging to 2 classes.\n"
          ],
          "name": "stdout"
        }
      ]
    },
    {
      "cell_type": "code",
      "metadata": {
        "id": "UEEfG2fzgxLW"
      },
      "source": [
        "# for i in validation_set:\r\n",
        "#   BytesIO(b'i') \r\n",
        "\r\n",
        "# BytesIO(b'0x7fbac98c5530') "
      ],
      "execution_count": null,
      "outputs": []
    },
    {
      "cell_type": "markdown",
      "metadata": {
        "id": "YAS0TlCLlK7r"
      },
      "source": [
        "# Problem :\r\n",
        "we have to solve the problem of the fitting phase.\r\n",
        "error raising with the method fit_generator, probably issue with reading image from validation set.\r\n",
        "Erro r: \" UnidentifiedImageError: cannot identify image file <_io.BytesIO object at 0x7fbac2e8c830> \""
      ]
    },
    {
      "cell_type": "code",
      "metadata": {
        "id": "uxF4aRPyJaAT",
        "colab": {
          "base_uri": "https://localhost:8080/",
          "height": 1000
        },
        "outputId": "6e6f96fd-fee7-4392-ca33-c7a18e13f3e7"
      },
      "source": [
        "# fitting the model\r\n",
        "\r\n",
        "hist=model.fit_generator(training_set,\r\n",
        "                         steps_per_epoch = 99,\r\n",
        "                         epochs = 1,\r\n",
        "                         validation_data = validation_set,\r\n",
        "                         validation_steps = 28)"
      ],
      "execution_count": null,
      "outputs": [
        {
          "output_type": "stream",
          "text": [
            "/usr/local/lib/python3.7/dist-packages/tensorflow/python/keras/engine/training.py:1844: UserWarning: `Model.fit_generator` is deprecated and will be removed in a future version. Please use `Model.fit`, which supports generators.\n",
            "  warnings.warn('`Model.fit_generator` is deprecated and '\n"
          ],
          "name": "stderr"
        },
        {
          "output_type": "stream",
          "text": [
            "82/99 [=======================>......] - ETA: 7s - loss: 0.9713 - accuracy: 0.5546"
          ],
          "name": "stdout"
        },
        {
          "output_type": "error",
          "ename": "UnknownError",
          "evalue": "ignored",
          "traceback": [
            "\u001b[0;31m---------------------------------------------------------------------------\u001b[0m",
            "\u001b[0;31mUnknownError\u001b[0m                              Traceback (most recent call last)",
            "\u001b[0;32m<ipython-input-82-173b6878b868>\u001b[0m in \u001b[0;36m<module>\u001b[0;34m()\u001b[0m\n\u001b[1;32m      5\u001b[0m                          \u001b[0mepochs\u001b[0m \u001b[0;34m=\u001b[0m \u001b[0;36m1\u001b[0m\u001b[0;34m,\u001b[0m\u001b[0;34m\u001b[0m\u001b[0;34m\u001b[0m\u001b[0m\n\u001b[1;32m      6\u001b[0m                          \u001b[0mvalidation_data\u001b[0m \u001b[0;34m=\u001b[0m \u001b[0mvalidation_set\u001b[0m\u001b[0;34m,\u001b[0m\u001b[0;34m\u001b[0m\u001b[0;34m\u001b[0m\u001b[0m\n\u001b[0;32m----> 7\u001b[0;31m                          validation_steps = 28)\n\u001b[0m",
            "\u001b[0;32m/usr/local/lib/python3.7/dist-packages/tensorflow/python/keras/engine/training.py\u001b[0m in \u001b[0;36mfit_generator\u001b[0;34m(self, generator, steps_per_epoch, epochs, verbose, callbacks, validation_data, validation_steps, validation_freq, class_weight, max_queue_size, workers, use_multiprocessing, shuffle, initial_epoch)\u001b[0m\n\u001b[1;32m   1859\u001b[0m         \u001b[0muse_multiprocessing\u001b[0m\u001b[0;34m=\u001b[0m\u001b[0muse_multiprocessing\u001b[0m\u001b[0;34m,\u001b[0m\u001b[0;34m\u001b[0m\u001b[0;34m\u001b[0m\u001b[0m\n\u001b[1;32m   1860\u001b[0m         \u001b[0mshuffle\u001b[0m\u001b[0;34m=\u001b[0m\u001b[0mshuffle\u001b[0m\u001b[0;34m,\u001b[0m\u001b[0;34m\u001b[0m\u001b[0;34m\u001b[0m\u001b[0m\n\u001b[0;32m-> 1861\u001b[0;31m         initial_epoch=initial_epoch)\n\u001b[0m\u001b[1;32m   1862\u001b[0m \u001b[0;34m\u001b[0m\u001b[0m\n\u001b[1;32m   1863\u001b[0m   def evaluate_generator(self,\n",
            "\u001b[0;32m/usr/local/lib/python3.7/dist-packages/tensorflow/python/keras/engine/training.py\u001b[0m in \u001b[0;36mfit\u001b[0;34m(self, x, y, batch_size, epochs, verbose, callbacks, validation_split, validation_data, shuffle, class_weight, sample_weight, initial_epoch, steps_per_epoch, validation_steps, validation_batch_size, validation_freq, max_queue_size, workers, use_multiprocessing)\u001b[0m\n\u001b[1;32m   1098\u001b[0m                 _r=1):\n\u001b[1;32m   1099\u001b[0m               \u001b[0mcallbacks\u001b[0m\u001b[0;34m.\u001b[0m\u001b[0mon_train_batch_begin\u001b[0m\u001b[0;34m(\u001b[0m\u001b[0mstep\u001b[0m\u001b[0;34m)\u001b[0m\u001b[0;34m\u001b[0m\u001b[0;34m\u001b[0m\u001b[0m\n\u001b[0;32m-> 1100\u001b[0;31m               \u001b[0mtmp_logs\u001b[0m \u001b[0;34m=\u001b[0m \u001b[0mself\u001b[0m\u001b[0;34m.\u001b[0m\u001b[0mtrain_function\u001b[0m\u001b[0;34m(\u001b[0m\u001b[0miterator\u001b[0m\u001b[0;34m)\u001b[0m\u001b[0;34m\u001b[0m\u001b[0;34m\u001b[0m\u001b[0m\n\u001b[0m\u001b[1;32m   1101\u001b[0m               \u001b[0;32mif\u001b[0m \u001b[0mdata_handler\u001b[0m\u001b[0;34m.\u001b[0m\u001b[0mshould_sync\u001b[0m\u001b[0;34m:\u001b[0m\u001b[0;34m\u001b[0m\u001b[0;34m\u001b[0m\u001b[0m\n\u001b[1;32m   1102\u001b[0m                 \u001b[0mcontext\u001b[0m\u001b[0;34m.\u001b[0m\u001b[0masync_wait\u001b[0m\u001b[0;34m(\u001b[0m\u001b[0;34m)\u001b[0m\u001b[0;34m\u001b[0m\u001b[0;34m\u001b[0m\u001b[0m\n",
            "\u001b[0;32m/usr/local/lib/python3.7/dist-packages/tensorflow/python/eager/def_function.py\u001b[0m in \u001b[0;36m__call__\u001b[0;34m(self, *args, **kwds)\u001b[0m\n\u001b[1;32m    826\u001b[0m     \u001b[0mtracing_count\u001b[0m \u001b[0;34m=\u001b[0m \u001b[0mself\u001b[0m\u001b[0;34m.\u001b[0m\u001b[0mexperimental_get_tracing_count\u001b[0m\u001b[0;34m(\u001b[0m\u001b[0;34m)\u001b[0m\u001b[0;34m\u001b[0m\u001b[0;34m\u001b[0m\u001b[0m\n\u001b[1;32m    827\u001b[0m     \u001b[0;32mwith\u001b[0m \u001b[0mtrace\u001b[0m\u001b[0;34m.\u001b[0m\u001b[0mTrace\u001b[0m\u001b[0;34m(\u001b[0m\u001b[0mself\u001b[0m\u001b[0;34m.\u001b[0m\u001b[0m_name\u001b[0m\u001b[0;34m)\u001b[0m \u001b[0;32mas\u001b[0m \u001b[0mtm\u001b[0m\u001b[0;34m:\u001b[0m\u001b[0;34m\u001b[0m\u001b[0;34m\u001b[0m\u001b[0m\n\u001b[0;32m--> 828\u001b[0;31m       \u001b[0mresult\u001b[0m \u001b[0;34m=\u001b[0m \u001b[0mself\u001b[0m\u001b[0;34m.\u001b[0m\u001b[0m_call\u001b[0m\u001b[0;34m(\u001b[0m\u001b[0;34m*\u001b[0m\u001b[0margs\u001b[0m\u001b[0;34m,\u001b[0m \u001b[0;34m**\u001b[0m\u001b[0mkwds\u001b[0m\u001b[0;34m)\u001b[0m\u001b[0;34m\u001b[0m\u001b[0;34m\u001b[0m\u001b[0m\n\u001b[0m\u001b[1;32m    829\u001b[0m       \u001b[0mcompiler\u001b[0m \u001b[0;34m=\u001b[0m \u001b[0;34m\"xla\"\u001b[0m \u001b[0;32mif\u001b[0m \u001b[0mself\u001b[0m\u001b[0;34m.\u001b[0m\u001b[0m_experimental_compile\u001b[0m \u001b[0;32melse\u001b[0m \u001b[0;34m\"nonXla\"\u001b[0m\u001b[0;34m\u001b[0m\u001b[0;34m\u001b[0m\u001b[0m\n\u001b[1;32m    830\u001b[0m       \u001b[0mnew_tracing_count\u001b[0m \u001b[0;34m=\u001b[0m \u001b[0mself\u001b[0m\u001b[0;34m.\u001b[0m\u001b[0mexperimental_get_tracing_count\u001b[0m\u001b[0;34m(\u001b[0m\u001b[0;34m)\u001b[0m\u001b[0;34m\u001b[0m\u001b[0;34m\u001b[0m\u001b[0m\n",
            "\u001b[0;32m/usr/local/lib/python3.7/dist-packages/tensorflow/python/eager/def_function.py\u001b[0m in \u001b[0;36m_call\u001b[0;34m(self, *args, **kwds)\u001b[0m\n\u001b[1;32m    853\u001b[0m       \u001b[0;31m# In this case we have created variables on the first call, so we run the\u001b[0m\u001b[0;34m\u001b[0m\u001b[0;34m\u001b[0m\u001b[0;34m\u001b[0m\u001b[0m\n\u001b[1;32m    854\u001b[0m       \u001b[0;31m# defunned version which is guaranteed to never create variables.\u001b[0m\u001b[0;34m\u001b[0m\u001b[0;34m\u001b[0m\u001b[0;34m\u001b[0m\u001b[0m\n\u001b[0;32m--> 855\u001b[0;31m       \u001b[0;32mreturn\u001b[0m \u001b[0mself\u001b[0m\u001b[0;34m.\u001b[0m\u001b[0m_stateless_fn\u001b[0m\u001b[0;34m(\u001b[0m\u001b[0;34m*\u001b[0m\u001b[0margs\u001b[0m\u001b[0;34m,\u001b[0m \u001b[0;34m**\u001b[0m\u001b[0mkwds\u001b[0m\u001b[0;34m)\u001b[0m  \u001b[0;31m# pylint: disable=not-callable\u001b[0m\u001b[0;34m\u001b[0m\u001b[0;34m\u001b[0m\u001b[0m\n\u001b[0m\u001b[1;32m    856\u001b[0m     \u001b[0;32melif\u001b[0m \u001b[0mself\u001b[0m\u001b[0;34m.\u001b[0m\u001b[0m_stateful_fn\u001b[0m \u001b[0;32mis\u001b[0m \u001b[0;32mnot\u001b[0m \u001b[0;32mNone\u001b[0m\u001b[0;34m:\u001b[0m\u001b[0;34m\u001b[0m\u001b[0;34m\u001b[0m\u001b[0m\n\u001b[1;32m    857\u001b[0m       \u001b[0;31m# Release the lock early so that multiple threads can perform the call\u001b[0m\u001b[0;34m\u001b[0m\u001b[0;34m\u001b[0m\u001b[0;34m\u001b[0m\u001b[0m\n",
            "\u001b[0;32m/usr/local/lib/python3.7/dist-packages/tensorflow/python/eager/function.py\u001b[0m in \u001b[0;36m__call__\u001b[0;34m(self, *args, **kwargs)\u001b[0m\n\u001b[1;32m   2941\u001b[0m        filtered_flat_args) = self._maybe_define_function(args, kwargs)\n\u001b[1;32m   2942\u001b[0m     return graph_function._call_flat(\n\u001b[0;32m-> 2943\u001b[0;31m         filtered_flat_args, captured_inputs=graph_function.captured_inputs)  # pylint: disable=protected-access\n\u001b[0m\u001b[1;32m   2944\u001b[0m \u001b[0;34m\u001b[0m\u001b[0m\n\u001b[1;32m   2945\u001b[0m   \u001b[0;34m@\u001b[0m\u001b[0mproperty\u001b[0m\u001b[0;34m\u001b[0m\u001b[0;34m\u001b[0m\u001b[0m\n",
            "\u001b[0;32m/usr/local/lib/python3.7/dist-packages/tensorflow/python/eager/function.py\u001b[0m in \u001b[0;36m_call_flat\u001b[0;34m(self, args, captured_inputs, cancellation_manager)\u001b[0m\n\u001b[1;32m   1917\u001b[0m       \u001b[0;31m# No tape is watching; skip to running the function.\u001b[0m\u001b[0;34m\u001b[0m\u001b[0;34m\u001b[0m\u001b[0;34m\u001b[0m\u001b[0m\n\u001b[1;32m   1918\u001b[0m       return self._build_call_outputs(self._inference_function.call(\n\u001b[0;32m-> 1919\u001b[0;31m           ctx, args, cancellation_manager=cancellation_manager))\n\u001b[0m\u001b[1;32m   1920\u001b[0m     forward_backward = self._select_forward_and_backward_functions(\n\u001b[1;32m   1921\u001b[0m         \u001b[0margs\u001b[0m\u001b[0;34m,\u001b[0m\u001b[0;34m\u001b[0m\u001b[0;34m\u001b[0m\u001b[0m\n",
            "\u001b[0;32m/usr/local/lib/python3.7/dist-packages/tensorflow/python/eager/function.py\u001b[0m in \u001b[0;36mcall\u001b[0;34m(self, ctx, args, cancellation_manager)\u001b[0m\n\u001b[1;32m    558\u001b[0m               \u001b[0minputs\u001b[0m\u001b[0;34m=\u001b[0m\u001b[0margs\u001b[0m\u001b[0;34m,\u001b[0m\u001b[0;34m\u001b[0m\u001b[0;34m\u001b[0m\u001b[0m\n\u001b[1;32m    559\u001b[0m               \u001b[0mattrs\u001b[0m\u001b[0;34m=\u001b[0m\u001b[0mattrs\u001b[0m\u001b[0;34m,\u001b[0m\u001b[0;34m\u001b[0m\u001b[0;34m\u001b[0m\u001b[0m\n\u001b[0;32m--> 560\u001b[0;31m               ctx=ctx)\n\u001b[0m\u001b[1;32m    561\u001b[0m         \u001b[0;32melse\u001b[0m\u001b[0;34m:\u001b[0m\u001b[0;34m\u001b[0m\u001b[0;34m\u001b[0m\u001b[0m\n\u001b[1;32m    562\u001b[0m           outputs = execute.execute_with_cancellation(\n",
            "\u001b[0;32m/usr/local/lib/python3.7/dist-packages/tensorflow/python/eager/execute.py\u001b[0m in \u001b[0;36mquick_execute\u001b[0;34m(op_name, num_outputs, inputs, attrs, ctx, name)\u001b[0m\n\u001b[1;32m     58\u001b[0m     \u001b[0mctx\u001b[0m\u001b[0;34m.\u001b[0m\u001b[0mensure_initialized\u001b[0m\u001b[0;34m(\u001b[0m\u001b[0;34m)\u001b[0m\u001b[0;34m\u001b[0m\u001b[0;34m\u001b[0m\u001b[0m\n\u001b[1;32m     59\u001b[0m     tensors = pywrap_tfe.TFE_Py_Execute(ctx._handle, device_name, op_name,\n\u001b[0;32m---> 60\u001b[0;31m                                         inputs, attrs, num_outputs)\n\u001b[0m\u001b[1;32m     61\u001b[0m   \u001b[0;32mexcept\u001b[0m \u001b[0mcore\u001b[0m\u001b[0;34m.\u001b[0m\u001b[0m_NotOkStatusException\u001b[0m \u001b[0;32mas\u001b[0m \u001b[0me\u001b[0m\u001b[0;34m:\u001b[0m\u001b[0;34m\u001b[0m\u001b[0;34m\u001b[0m\u001b[0m\n\u001b[1;32m     62\u001b[0m     \u001b[0;32mif\u001b[0m \u001b[0mname\u001b[0m \u001b[0;32mis\u001b[0m \u001b[0;32mnot\u001b[0m \u001b[0;32mNone\u001b[0m\u001b[0;34m:\u001b[0m\u001b[0;34m\u001b[0m\u001b[0;34m\u001b[0m\u001b[0m\n",
            "\u001b[0;31mUnknownError\u001b[0m:  UnidentifiedImageError: cannot identify image file <_io.BytesIO object at 0x7fbac2e8c830>\nTraceback (most recent call last):\n\n  File \"/usr/local/lib/python3.7/dist-packages/tensorflow/python/ops/script_ops.py\", line 249, in __call__\n    ret = func(*args)\n\n  File \"/usr/local/lib/python3.7/dist-packages/tensorflow/python/autograph/impl/api.py\", line 620, in wrapper\n    return func(*args, **kwargs)\n\n  File \"/usr/local/lib/python3.7/dist-packages/tensorflow/python/data/ops/dataset_ops.py\", line 891, in generator_py_func\n    values = next(generator_state.get_iterator(iterator_id))\n\n  File \"/usr/local/lib/python3.7/dist-packages/tensorflow/python/keras/engine/data_adapter.py\", line 807, in wrapped_generator\n    for data in generator_fn():\n\n  File \"/usr/local/lib/python3.7/dist-packages/tensorflow/python/keras/engine/data_adapter.py\", line 933, in generator_fn\n    yield x[i]\n\n  File \"/usr/local/lib/python3.7/dist-packages/keras_preprocessing/image/iterator.py\", line 65, in __getitem__\n    return self._get_batches_of_transformed_samples(index_array)\n\n  File \"/usr/local/lib/python3.7/dist-packages/keras_preprocessing/image/iterator.py\", line 230, in _get_batches_of_transformed_samples\n    interpolation=self.interpolation)\n\n  File \"/usr/local/lib/python3.7/dist-packages/keras_preprocessing/image/utils.py\", line 114, in load_img\n    img = pil_image.open(io.BytesIO(f.read()))\n\n  File \"/usr/local/lib/python3.7/dist-packages/PIL/Image.py\", line 2862, in open\n    \"cannot identify image file %r\" % (filename if filename else fp)\n\nPIL.UnidentifiedImageError: cannot identify image file <_io.BytesIO object at 0x7fbac2e8c830>\n\n\n\t [[{{node PyFunc}}]]\n\t [[IteratorGetNext]] [Op:__inference_train_function_7583]\n\nFunction call stack:\ntrain_function\n"
          ]
        }
      ]
    },
    {
      "cell_type": "code",
      "metadata": {
        "id": "MEf9Fbs2fKB-"
      },
      "source": [
        "# possible solution to solve the problem above\r\n",
        "\r\n",
        "from io import BytesIO\r\n",
        "BytesIO(b\"0x7fbac83f9350\")"
      ],
      "execution_count": null,
      "outputs": []
    },
    {
      "cell_type": "code",
      "metadata": {
        "id": "CIgdlLQhl8dE"
      },
      "source": [
        "# # checking the information of the batch we split\r\n",
        "# # checking if it makes sense with the size of the images\r\n",
        "\r\n",
        "# batchX, batchy = train_iterator.next()\r\n",
        "# print('Train Batch shape=%s, min=%.3f, max=%.3f' % (batchX.shape, batchX.min(), batchX.max()))\r\n",
        "\r\n",
        "# batchX, batchy = validation_iterator.next()\r\n",
        "# print('Validation Batch shape=%s, min=%.3f, max=%.3f' % (batchX.shape, batchX.min(), batchX.max()))\r\n",
        "\r\n",
        "# batchX, batchy = test_iterator.next()\r\n",
        "# print('Test Batch shape=%s, min=%.3f, max=%.3f' % (batchX.shape, batchX.min(), batchX.max()))"
      ],
      "execution_count": null,
      "outputs": []
    },
    {
      "cell_type": "code",
      "metadata": {
        "id": "KAyMIJOBJb6y"
      },
      "source": [
        "# FINALLY OUR MODEL PREDICT\r\n",
        "\r\n",
        "Y_pred = model.predict_generator(test_set, 63)    # ceil(num_of_test_samples / batch_size)\r\n",
        "\r\n",
        "# changing the result as True and False\r\n",
        "Y_pred = (Y_pred>0.5)\r\n",
        "\r\n",
        "\r\n",
        "\r\n",
        "# if you have the last version of tensorflow, the predict_generator is deprecated.\r\n",
        "# you should use the predict method.\r\n",
        "# if you do not have the last version, you must use predict_generator"
      ],
      "execution_count": null,
      "outputs": []
    },
    {
      "cell_type": "markdown",
      "metadata": {
        "id": "FjSdHDW0ViQ5"
      },
      "source": [
        "## Prediction assessment"
      ]
    },
    {
      "cell_type": "code",
      "metadata": {
        "id": "sv1KJDNaJb9_"
      },
      "source": [
        "# confusion matrix\r\n",
        "print('Confusion matrix')\r\n",
        "print(confusion_matrix(test_set.classes, Y_pred))"
      ],
      "execution_count": null,
      "outputs": []
    },
    {
      "cell_type": "code",
      "metadata": {
        "id": "BSN7fMXvVtC4"
      },
      "source": [
        "# classification report\r\n",
        "print('Classification Report')\r\n",
        "target_names = ['No Mask', 'Mask']\r\n",
        "print(classification_report(test_set.classes, Y_pred, target_names=target_names))"
      ],
      "execution_count": null,
      "outputs": []
    },
    {
      "cell_type": "code",
      "metadata": {
        "id": "7kG6Y1PkYLZG"
      },
      "source": [
        "# plotting\r\n",
        "\r\n",
        "# displaying the accuracy and loss over the training epochs\r\n",
        "acc = hist.history['accuracy']\r\n",
        "val_acc = hist.history['val_accuracy']\r\n",
        "loss = hist.history['loss']\r\n",
        "val_loss = hist.history['val_loss']\r\n",
        "\r\n",
        "epochs = range(1, len(acc) +1)\r\n",
        "\r\n",
        "plt.plot(epochs, acc, 'bo', label='Training acc')\r\n",
        "plt.plot(epochs, val_acc, 'b', label='Validation acc')\r\n",
        "plt.title('Training and validation accuracy')\r\n",
        "plt.legend()\r\n",
        "plt.figure()\r\n",
        "\r\n",
        "plt.plot(epochs, loss, 'bo', label='Training loss')\r\n",
        "plt.plot(epochs, val_loss, 'b', label='Validation loss')\r\n",
        "plt.title('Training and validation loss')\r\n",
        "plt.legend()\r\n",
        "\r\n",
        "plt.show()"
      ],
      "execution_count": null,
      "outputs": []
    },
    {
      "cell_type": "markdown",
      "metadata": {
        "id": "InD-J_p3V7nU"
      },
      "source": [
        "# Next Steps : improving the NN"
      ]
    },
    {
      "cell_type": "code",
      "metadata": {
        "id": "EW6c7zH_pXEg"
      },
      "source": [
        "### Code for DATA AUGMENTATION\r\n",
        "\r\n",
        "train_datagen = ImageDataGenerator(rescale = 1./255,\r\n",
        "                                   shear_range = 0.2,\r\n",
        "                                   zoom_range = 0.2,\r\n",
        "                                   horizontal_flip = True)\r\n",
        "# test set only rescaled\r\n",
        "test_datagen = ImageDataGenerator(rescale = 1./255)"
      ],
      "execution_count": null,
      "outputs": []
    },
    {
      "cell_type": "code",
      "metadata": {
        "id": "j4izwvWulNRk"
      },
      "source": [
        "# Set callbacks to analyze the best number of epochs | Try 25,50, and 100\r\n",
        "\r\n",
        "  earlystopping = callbacks.EarlyStopping(monitor =\"val_loss\",  \r\n",
        "                                          mode =\"min\", patience = 5,  \r\n",
        "                                          restore_best_weights = True) \r\n",
        "  \r\n",
        "  history = model.fit(partial_images, partial_labels, batch_size = 128,  \r\n",
        "                      epochs = 25, validation_data =(X_val, y_val),  \r\n",
        "                      callbacks =[earlystopping]) "
      ],
      "execution_count": null,
      "outputs": []
    },
    {
      "cell_type": "code",
      "metadata": {
        "id": "-zUbCNS2joBT"
      },
      "source": [
        "# Train the model for XXXXXX epochs\r\n",
        "#model.fit_generator(train_iterator, steps_per_epoch=len(train_iterator), epochs=XXXXXXX)"
      ],
      "execution_count": null,
      "outputs": []
    },
    {
      "cell_type": "code",
      "metadata": {
        "id": "JllaZG-DjCFv"
      },
      "source": [
        "# Evaluate the model\r\n",
        "_, acc = model.evaluate_generator(test_iterator, steps=len(test_iterator), verbose=0)\r\n",
        "print('Test Accuracy: %.3f' % (acc * 100))"
      ],
      "execution_count": null,
      "outputs": []
    },
    {
      "cell_type": "markdown",
      "metadata": {
        "id": "Af3cjs7aoxsP"
      },
      "source": [
        "### 4. Model assessment"
      ]
    },
    {
      "cell_type": "code",
      "metadata": {
        "id": "CGQ9yM3al8nh"
      },
      "source": [
        ""
      ],
      "execution_count": null,
      "outputs": []
    },
    {
      "cell_type": "code",
      "metadata": {
        "id": "TlRU4Wj9l8x-"
      },
      "source": [
        ""
      ],
      "execution_count": null,
      "outputs": []
    },
    {
      "cell_type": "markdown",
      "metadata": {
        "id": "NMAoTI6do7Ht"
      },
      "source": [
        "### 5. Deployment"
      ]
    },
    {
      "cell_type": "code",
      "metadata": {
        "id": "Fy0Q2hcDo-Qv"
      },
      "source": [
        ""
      ],
      "execution_count": null,
      "outputs": []
    },
    {
      "cell_type": "code",
      "metadata": {
        "id": "NVb4OWHAo-hs"
      },
      "source": [
        ""
      ],
      "execution_count": null,
      "outputs": []
    },
    {
      "cell_type": "markdown",
      "metadata": {
        "id": "3pBPw1RvmGgf"
      },
      "source": [
        "Example\r\n",
        "https://machinelearningmastery.com/how-to-perform-face-detection-with-classical-and-deep-learning-methods-in-python-with-keras/\r\n",
        "\r\n",
        "Problems websites\r\n",
        "\r\n",
        "https://colab.research.google.com/github/google/eng-edu/blob/master/ml/pc/exercises/image_classification_part1.ipynb\r\n",
        "\r\n",
        "https://github.com/python-pillow/Pillow/issues/1006"
      ]
    }
  ]
}