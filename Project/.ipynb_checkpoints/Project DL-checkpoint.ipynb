{
 "cells": [
  {
   "cell_type": "markdown",
   "metadata": {
    "id": "7VsY8M4nlrGe"
   },
   "source": [
    "# Deep Learning Project\n",
    "## Mask detection\n",
    "\n",
    "Group members:\n",
    "- Lorenzo Pigozzi\t--- m20200745\n",
    "- Marta\n",
    "- Gustavo\n",
    "- Salim\n",
    "\n",
    "\n"
   ]
  },
  {
   "cell_type": "markdown",
   "metadata": {
    "id": "ujYp8uilmSD1"
   },
   "source": [
    "### Steps\n",
    "1.\tImporting data and setting the directions \n",
    "2.\tBrief data preprocessing       \n",
    "3.\tModel architecture \n",
    "4.  Model assessment      \n",
    "5.  Deployment"
   ]
  },
  {
   "cell_type": "markdown",
   "metadata": {
    "id": "witmie_SnYza"
   },
   "source": [
    "### 1. Importing libraries and setting the directions <a class=\"anchor\" id=\"1\"></a>"
   ]
  },
  {
   "cell_type": "code",
   "execution_count": 1,
   "metadata": {
    "id": "exD3P8mzl8Ji"
   },
   "outputs": [],
   "source": [
    "# importing needed libraries\n",
    "#%tensorflow_version 1.x\n",
    "import tensorflow\n",
    "import pandas as pd\n",
    "import numpy as np\n",
    "import keras\n",
    "import os, shutil\n",
    "import io\n",
    "\n",
    "\n",
    "# keras\n",
    "from keras.models import Sequential\n",
    "from keras.layers import Conv2D\n",
    "from keras.layers import MaxPooling2D\n",
    "from keras.layers import Flatten\n",
    "from keras.layers import Dense\n",
    "from keras.preprocessing.image import ImageDataGenerator\n",
    "from keras import optimizers\n",
    "from keras import callbacks \n",
    "\n",
    "# sklearn\n",
    "from sklearn.metrics import classification_report, confusion_matrix\n",
    "\n",
    "# matplotlib\n",
    "import matplotlib.pyplot as plt"
   ]
  },
  {
   "cell_type": "markdown",
   "metadata": {},
   "source": [
    "Directions Google Colab"
   ]
  },
  {
   "cell_type": "code",
   "execution_count": 2,
   "metadata": {
    "colab": {
     "base_uri": "https://localhost:8080/"
    },
    "executionInfo": {
     "elapsed": 30565,
     "status": "ok",
     "timestamp": 1616104692534,
     "user": {
      "displayName": "ana marta silva",
      "photoUrl": "",
      "userId": "06374727522975360903"
     },
     "user_tz": 0
    },
    "id": "EY7xQ9QYRjD4",
    "outputId": "83007205-e81b-491d-9975-2ac01590e0f6"
   },
   "outputs": [],
   "source": [
    "\n",
    "# # for downloading the pictures\n",
    "# from google.colab import drive\n",
    "# drive.mount('/content/gdrive')\n",
    "# !ls '/content/gdrive'  # take a look at the Google Drive content"
   ]
  },
  {
   "cell_type": "code",
   "execution_count": null,
   "metadata": {
    "id": "u-B_cC56k4b3"
   },
   "outputs": [],
   "source": [
    "# ######## defining the paths\n",
    "# original_masks = \"gdrive/MyDrive/Project Deeplearning/Pics_with_masks/withMaskDataset/withMaskDataset/\"\n",
    "# original_faces = \"gdrive/MyDrive/Project Deeplearning/Images/\""
   ]
  },
  {
   "cell_type": "code",
   "execution_count": 2,
   "metadata": {
    "id": "LHZ_RAJhZMqa"
   },
   "outputs": [],
   "source": [
    "# # !ls /content/gdrive/MyDrive/Project_Deeplearning\n",
    "# base_dir = 'gdrive/MyDrive/Project Deeplearning/'\n",
    "\n",
    "# # creationof the folder\n",
    "# # os.mkdir(train_dir)\n",
    "# # setting the direction of the train\n",
    "# train_dir = os.path.join(base_dir, 'train')\n",
    "\n",
    "# # creationof the folder\n",
    "# # os.mkdir(validation_dir)\n",
    "# # setting the direction of the train\n",
    "# validation_dir=os.path.join(base_dir, 'validation')\n",
    "\n",
    "# # creationof the folder\n",
    "# # os.mkdir(test_dir)\n",
    "# # setting the direction of the train\n",
    "# test_dir=os.path.join(base_dir, 'test')"
   ]
  },
  {
   "cell_type": "code",
   "execution_count": null,
   "metadata": {
    "id": "k-0i2BXld-KM"
   },
   "outputs": [],
   "source": [
    "# train_masks_dir=os.path.join(train_dir, 'masks')\n",
    "# # os.mkdir(train_masks_dir)\n",
    "# train_no_masks_dir=os.path.join(train_dir, 'no_masks')\n",
    "# # os.mkdir(train_no_masks_dir)\n",
    "\n",
    "# validation_masks_dir=os.path.join(validation_dir, 'masks')\n",
    "# # os.mkdir(validation_masks_dir)\n",
    "# validation_no_masks_dir=os.path.join(validation_dir, 'no_masks')\n",
    "# # os.mkdir(validation_no_masks_dir)\n",
    "\n",
    "# test_masks_dir=os.path.join(test_dir, 'masks')\n",
    "# # os.mkdir(test_masks_dir)\n",
    "# test_no_masks_dir=os.path.join(test_dir, 'no_masks')\n",
    "# # os.mkdir(test_no_masks_dir)"
   ]
  },
  {
   "cell_type": "code",
   "execution_count": null,
   "metadata": {
    "id": "b6FDR_J5fH0s"
   },
   "outputs": [],
   "source": [
    "#### Splitting the images in the folders Train, Validation and Test\n",
    "\n",
    "## Train = 70, Val 15, Test 15\n",
    "\n",
    "#fnames = ['Masks{}.png'.format(i) for i in range(0,989)]\n",
    "#for fname in fnames:\n",
    "#  src=os.path.join(original_masks, fname)\n",
    "#  dst=os.path.join(train_masks_dir, fname)\n",
    "#  shutil.copyfile(src,dst)\n",
    "\n",
    "#fnames = ['Masks{}.png'.format(i) for i in range(990,1201)]\n",
    "#for fname in fnames:\n",
    "#   src=os.path.join(original_masks, fname)\n",
    "#   dst=os.path.join(validation_masks_dir, fname)\n",
    "#   shutil.copyfile(src,dst)\n",
    "\n",
    "#fnames = ['Masks{}.png'.format(i) for i in range(1202,1413)]\n",
    "#for fname in fnames:\n",
    "#   src=os.path.join(original_masks, fname)\n",
    "#   dst=os.path.join(test_masks_dir, fname)\n",
    "#   shutil.copyfile(src,dst)\n",
    "\n",
    "\n",
    "#fnames = ['Faces{}.png'.format(i) for i in range(0,989)]\n",
    "#for fname in fnames:\n",
    "#   src=os.path.join(original_faces, fname)\n",
    "#   dst=os.path.join(train_no_masks_dir, fname)\n",
    "#   shutil.copyfile(src,dst)\n",
    "\n",
    "#fnames = ['Faces{}.png'.format(i) for i in range(990,1201)]\n",
    "#for fname in fnames:\n",
    "#   src=os.path.join(original_faces, fname)\n",
    "#   dst=os.path.join(validation_no_masks_dir, fname)\n",
    "#   shutil.copyfile(src,dst)\n",
    "\n",
    "#fnames = ['Faces{}.png'.format(i) for i in range(1202,1413)]\n",
    "#for fname in fnames:\n",
    "#   src=os.path.join(original_faces, fname)\n",
    "#   dst=os.path.join(test_no_masks_dir, fname)\n",
    "#   shutil.copyfile(src,dst)"
   ]
  },
  {
   "cell_type": "markdown",
   "metadata": {
    "id": "3k8HUA5ZoOpA"
   },
   "source": [
    "### 2. Model Architecture"
   ]
  },
  {
   "cell_type": "code",
   "execution_count": 2,
   "metadata": {
    "id": "Mw9HnGrTl8kH"
   },
   "outputs": [],
   "source": [
    "# Sequential model | Create linear stack of layers\n",
    "model = Sequential()\n",
    "\n",
    "# Convolutional layer | Conv2D\n",
    "model.add(Conv2D(32, (3, 3), activation='relu', input_shape=(150,150, 3)))\n",
    "model.add(MaxPooling2D((2, 2)))\n",
    "model.add(Conv2D(64, (3, 3), activation='relu'))\n",
    "model.add(MaxPooling2D((2, 2)))\n",
    "\n",
    "# Flatten output of Conv\n",
    "model.add(Flatten())\n",
    "# Hidden layer\n",
    "model.add(Dense(32, activation='relu'))\n",
    "# Output layer\n",
    "model.add(Dense(1, activation='sigmoid'))"
   ]
  },
  {
   "cell_type": "code",
   "execution_count": 3,
   "metadata": {
    "id": "vjTMhvaBNulG"
   },
   "outputs": [],
   "source": [
    "# compiling the model\n",
    "model.compile(optimizer = 'adam', \n",
    "              loss = 'binary_crossentropy',\n",
    "              metrics=['accuracy'])"
   ]
  },
  {
   "cell_type": "code",
   "execution_count": 4,
   "metadata": {
    "colab": {
     "base_uri": "https://localhost:8080/"
    },
    "executionInfo": {
     "elapsed": 570,
     "status": "ok",
     "timestamp": 1616104742922,
     "user": {
      "displayName": "ana marta silva",
      "photoUrl": "",
      "userId": "06374727522975360903"
     },
     "user_tz": 0
    },
    "id": "8KFLXQTYNvCn",
    "outputId": "67f86a40-df61-435b-f103-53f4a4c0204d"
   },
   "outputs": [
    {
     "name": "stdout",
     "output_type": "stream",
     "text": [
      "Model: \"sequential\"\n",
      "_________________________________________________________________\n",
      "Layer (type)                 Output Shape              Param #   \n",
      "=================================================================\n",
      "conv2d (Conv2D)              (None, 148, 148, 32)      896       \n",
      "_________________________________________________________________\n",
      "max_pooling2d (MaxPooling2D) (None, 74, 74, 32)        0         \n",
      "_________________________________________________________________\n",
      "conv2d_1 (Conv2D)            (None, 72, 72, 64)        18496     \n",
      "_________________________________________________________________\n",
      "max_pooling2d_1 (MaxPooling2 (None, 36, 36, 64)        0         \n",
      "_________________________________________________________________\n",
      "flatten (Flatten)            (None, 82944)             0         \n",
      "_________________________________________________________________\n",
      "dense (Dense)                (None, 32)                2654240   \n",
      "_________________________________________________________________\n",
      "dense_1 (Dense)              (None, 1)                 33        \n",
      "=================================================================\n",
      "Total params: 2,673,665\n",
      "Trainable params: 2,673,665\n",
      "Non-trainable params: 0\n",
      "_________________________________________________________________\n"
     ]
    }
   ],
   "source": [
    "# visualizing the model structure\n",
    "model.summary()"
   ]
  },
  {
   "cell_type": "code",
   "execution_count": 5,
   "metadata": {
    "id": "e0qmHJ3TI37t"
   },
   "outputs": [],
   "source": [
    "# scaling the data\n",
    "train_datagen = ImageDataGenerator(rescale = 1./255)\n",
    "validation_datagen = ImageDataGenerator(rescale = 1./255)\n",
    "test_datagen = ImageDataGenerator(rescale = 1./255)"
   ]
  },
  {
   "cell_type": "code",
   "execution_count": 6,
   "metadata": {
    "colab": {
     "base_uri": "https://localhost:8080/"
    },
    "executionInfo": {
     "elapsed": 740,
     "status": "ok",
     "timestamp": 1616104799395,
     "user": {
      "displayName": "ana marta silva",
      "photoUrl": "",
      "userId": "06374727522975360903"
     },
     "user_tz": 0
    },
    "id": "BD2vBwm9J6cJ",
    "outputId": "6c0c2bc5-f9fe-47ba-bbc3-1a1fd23f83c3"
   },
   "outputs": [
    {
     "name": "stdout",
     "output_type": "stream",
     "text": [
      "Found 1978 images belonging to 2 classes.\n",
      "Found 422 images belonging to 2 classes.\n",
      "Found 422 images belonging to 2 classes.\n"
     ]
    }
   ],
   "source": [
    "# importing the images\n",
    "# flow when numpy array input, flow_from_directory when the inputs are directly images\n",
    "\n",
    "training_set = train_datagen.flow_from_directory('train',\n",
    "                                                 target_size = (150, 150),\n",
    "                                                 batch_size = 23,\n",
    "                                                 color_mode=\"rgb\",\n",
    "                                                 class_mode = 'binary')\n",
    "\n",
    "\n",
    "validation_set = validation_datagen.flow_from_directory('validation', \n",
    "                                                        target_size = (150, 150),\n",
    "                                                        batch_size = 23,\n",
    "                                                        color_mode=\"rgb\",\n",
    "                                                        class_mode = 'binary')\n",
    "\n",
    "test_set = test_datagen.flow_from_directory('test',\n",
    "                                            target_size = (150, 150),\n",
    "                                            batch_size = 23,\n",
    "                                            class_mode = 'binary',\n",
    "                                            shuffle = False)"
   ]
  },
  {
   "cell_type": "code",
   "execution_count": 7,
   "metadata": {
    "colab": {
     "base_uri": "https://localhost:8080/"
    },
    "executionInfo": {
     "elapsed": 1395949,
     "status": "ok",
     "timestamp": 1616106357853,
     "user": {
      "displayName": "ana marta silva",
      "photoUrl": "",
      "userId": "06374727522975360903"
     },
     "user_tz": 0
    },
    "id": "uxF4aRPyJaAT",
    "outputId": "4a2dc7e8-9ba9-4a5c-9c06-8339156d4af9",
    "scrolled": false
   },
   "outputs": [
    {
     "name": "stdout",
     "output_type": "stream",
     "text": [
      "WARNING:tensorflow:From <ipython-input-7-453c8ee24329>:3: Model.fit_generator (from tensorflow.python.keras.engine.training) is deprecated and will be removed in a future version.\n",
      "Instructions for updating:\n",
      "Please use Model.fit, which supports generators.\n",
      "Epoch 1/10\n",
      " 4/86 [>.............................] - ETA: 25s - loss: 1.3438 - accuracy: 0.5109"
     ]
    },
    {
     "name": "stderr",
     "output_type": "stream",
     "text": [
      "C:\\Users\\lorep\\anaconda3\\envs\\tensorflow\\lib\\site-packages\\PIL\\Image.py:962: UserWarning: Palette images with Transparency expressed in bytes should be converted to RGBA images\n",
      "  warnings.warn(\n"
     ]
    },
    {
     "name": "stdout",
     "output_type": "stream",
     "text": [
      "86/86 [==============================] - 72s 838ms/step - loss: 0.5290 - accuracy: 0.7629 - val_loss: 0.4024 - val_accuracy: 0.8246\n",
      "Epoch 2/10\n",
      "86/86 [==============================] - 72s 839ms/step - loss: 0.2723 - accuracy: 0.8913 - val_loss: 0.4313 - val_accuracy: 0.8270\n",
      "Epoch 3/10\n",
      "86/86 [==============================] - 72s 836ms/step - loss: 0.1777 - accuracy: 0.9297 - val_loss: 0.3772 - val_accuracy: 0.8365\n",
      "Epoch 4/10\n",
      "86/86 [==============================] - 72s 842ms/step - loss: 0.1038 - accuracy: 0.9656 - val_loss: 0.3397 - val_accuracy: 0.8791\n",
      "Epoch 5/10\n",
      "86/86 [==============================] - 72s 835ms/step - loss: 0.0413 - accuracy: 0.9924 - val_loss: 0.3845 - val_accuracy: 0.8910\n",
      "Epoch 6/10\n",
      "86/86 [==============================] - 75s 869ms/step - loss: 0.0183 - accuracy: 0.9965 - val_loss: 0.4184 - val_accuracy: 0.8957\n",
      "Epoch 7/10\n",
      "86/86 [==============================] - 73s 846ms/step - loss: 0.0070 - accuracy: 0.9995 - val_loss: 0.4230 - val_accuracy: 0.9005\n",
      "Epoch 8/10\n",
      "86/86 [==============================] - 72s 838ms/step - loss: 0.0029 - accuracy: 0.9995 - val_loss: 0.4692 - val_accuracy: 0.9076\n",
      "Epoch 9/10\n",
      "86/86 [==============================] - 72s 834ms/step - loss: 0.0013 - accuracy: 1.0000 - val_loss: 0.5197 - val_accuracy: 0.8957\n",
      "Epoch 10/10\n",
      "86/86 [==============================] - 73s 847ms/step - loss: 9.1781e-04 - accuracy: 1.0000 - val_loss: 0.5061 - val_accuracy: 0.9076\n"
     ]
    }
   ],
   "source": [
    "# fitting the model\n",
    "\n",
    "hist = model.fit_generator(training_set,\n",
    "                         steps_per_epoch = 86,\n",
    "                         epochs = 10,\n",
    "                         validation_data = validation_set,\n",
    "                         validation_steps = len(validation_set)\n",
    "                         )"
   ]
  },
  {
   "cell_type": "code",
   "execution_count": 8,
   "metadata": {},
   "outputs": [
    {
     "data": {
      "text/plain": [
       "{'masks': 0, 'no_masks': 1}"
      ]
     },
     "execution_count": 8,
     "metadata": {},
     "output_type": "execute_result"
    }
   ],
   "source": [
    "# displaying target labels\n",
    "training_set.class_indices"
   ]
  },
  {
   "cell_type": "code",
   "execution_count": 9,
   "metadata": {},
   "outputs": [
    {
     "data": {
      "image/png": "[encoded data removed]",
      "text/plain": [
       "<Figure size 432x288 with 1 Axes>"
      ]
     },
     "metadata": {
      "needs_background": "light"
     },
     "output_type": "display_data"
    },
    {
     "data": {
      "image/png": "[encoded data removed]",
      "text/plain": [
       "<Figure size 432x288 with 1 Axes>"
      ]
     },
     "metadata": {
      "needs_background": "light"
     },
     "output_type": "display_data"
    }
   ],
   "source": [
    "# displaying the accuracy and loss over the training epochs\n",
    "acc = hist.history['accuracy']\n",
    "val_acc = hist.history['val_accuracy']\n",
    "loss = hist.history['loss']\n",
    "val_loss = hist.history['val_loss']\n",
    "\n",
    "epochs = range(1, len(acc) +1)\n",
    "\n",
    "plt.plot(epochs, acc, 'bo', label='Training acc')\n",
    "plt.plot(epochs, val_acc, 'b', label='Validation acc')\n",
    "plt.title('Training and validation accuracy')\n",
    "plt.legend()\n",
    "plt.figure()\n",
    "\n",
    "plt.plot(epochs, loss, 'bo', label='Training loss')\n",
    "plt.plot(epochs, val_loss, 'b', label='Validation loss')\n",
    "plt.title('Training and validation loss')\n",
    "plt.legend()\n",
    "\n",
    "plt.show()"
   ]
  },
  {
   "cell_type": "markdown",
   "metadata": {
    "id": "FjSdHDW0ViQ5"
   },
   "source": [
    "## Prediction assessment"
   ]
  },
  {
   "cell_type": "code",
   "execution_count": 10,
   "metadata": {},
   "outputs": [
    {
     "name": "stdout",
     "output_type": "stream",
     "text": [
      "WARNING:tensorflow:From <ipython-input-10-4605af2c8e89>:3: Model.predict_generator (from tensorflow.python.keras.engine.training) is deprecated and will be removed in a future version.\n",
      "Instructions for updating:\n",
      "Please use Model.predict, which supports generators.\n",
      "WARNING:tensorflow:Your input ran out of data; interrupting training. Make sure that your dataset or generator can generate at least `steps_per_epoch * epochs` batches (in this case, 25 batches). You may need to use the repeat() function when building your dataset.\n"
     ]
    }
   ],
   "source": [
    "# Predicting the test set\n",
    "\n",
    "Y_pred = model.predict_generator(test_set, 25)    # ceil(num_of_test_samples / batch_size)\n",
    "\n",
    "# changing the result as True and False\n",
    "Y_pred = (Y_pred>0.5)\n",
    "\n",
    "# if you have the last version of tensorflow, the predict_generator is deprecated.\n",
    "# you should use the predict method.\n",
    "# if you do not have the last version, you must use predict_generator"
   ]
  },
  {
   "cell_type": "code",
   "execution_count": 11,
   "metadata": {},
   "outputs": [
    {
     "data": {
      "text/plain": [
       "(422, 1)"
      ]
     },
     "execution_count": 11,
     "metadata": {},
     "output_type": "execute_result"
    }
   ],
   "source": [
    "Y_pred.shape\n",
    "# test_set.classes.shape"
   ]
  },
  {
   "cell_type": "code",
   "execution_count": 12,
   "metadata": {
    "colab": {
     "base_uri": "https://localhost:8080/",
     "height": 0
    },
    "executionInfo": {
     "elapsed": 586,
     "status": "ok",
     "timestamp": 1616106640401,
     "user": {
      "displayName": "ana marta silva",
      "photoUrl": "",
      "userId": "06374727522975360903"
     },
     "user_tz": 0
    },
    "id": "sv1KJDNaJb9_",
    "outputId": "6c6d3d71-af37-435d-913b-a58a0c30580e"
   },
   "outputs": [
    {
     "name": "stdout",
     "output_type": "stream",
     "text": [
      "Confusion matrix\n",
      "[[192  19]\n",
      " [ 36 175]]\n"
     ]
    }
   ],
   "source": [
    "# confusion matrix\n",
    "print('Confusion matrix')\n",
    "print(confusion_matrix(test_set.classes, Y_pred))"
   ]
  },
  {
   "cell_type": "code",
   "execution_count": 13,
   "metadata": {},
   "outputs": [
    {
     "name": "stdout",
     "output_type": "stream",
     "text": [
      "Classification Report\n",
      "              precision    recall  f1-score   support\n",
      "\n",
      "        Mask       0.84      0.91      0.87       211\n",
      "     No Mask       0.90      0.83      0.86       211\n",
      "\n",
      "    accuracy                           0.87       422\n",
      "   macro avg       0.87      0.87      0.87       422\n",
      "weighted avg       0.87      0.87      0.87       422\n",
      "\n"
     ]
    }
   ],
   "source": [
    "# classification report\n",
    "print('Classification Report')\n",
    "target_names = ['Mask', 'No Mask']\n",
    "print(classification_report(test_set.classes, Y_pred, target_names=target_names))"
   ]
  },
  {
   "cell_type": "markdown",
   "metadata": {
    "id": "InD-J_p3V7nU"
   },
   "source": [
    "# Next Steps : improving the NN"
   ]
  },
  {
   "cell_type": "code",
   "execution_count": null,
   "metadata": {
    "id": "EW6c7zH_pXEg"
   },
   "outputs": [],
   "source": [
    "### Code for DATA AUGMENTATION\n",
    "\n",
    "train_datagen = ImageDataGenerator(rescale = 1./255,\n",
    "                                   shear_range = 0.2,\n",
    "                                   zoom_range = 0.2,\n",
    "                                   horizontal_flip = True)\n",
    "# validation and test only rescaled\n",
    "validation_datagen = ImageDataGenerator(rescale = 1./255)\n",
    "test_datagen = ImageDataGenerator(rescale = 1./255)"
   ]
  },
  {
   "cell_type": "code",
   "execution_count": null,
   "metadata": {
    "id": "j4izwvWulNRk"
   },
   "outputs": [],
   "source": [
    "# Set callbacks to analyze the best number of epochs | Try 25,50, and 100\n",
    "\n",
    "earlystopping = callbacks.EarlyStopping(monitor =\"val_loss\",  \n",
    "                                          mode =\"min\", patience = 5,  \n",
    "                                          restore_best_weights = True) \n",
    "  \n",
    "history = model.fit(partial_images, partial_labels, batch_size = 128,  \n",
    "                      epochs = 25, validation_data =(X_val, y_val),  \n",
    "                      callbacks =[earlystopping]) "
   ]
  },
  {
   "cell_type": "code",
   "execution_count": null,
   "metadata": {
    "id": "-zUbCNS2joBT"
   },
   "outputs": [],
   "source": [
    "# Train the model for XXXXXX epochs\n",
    "#model.fit_generator(train_iterator, steps_per_epoch=len(train_iterator), epochs=XXXXXXX)"
   ]
  },
  {
   "cell_type": "code",
   "execution_count": null,
   "metadata": {},
   "outputs": [],
   "source": [
    "# # checking the information of the batch we split\n",
    "# # checking if it makes sense with the size of the images\n",
    "\n",
    "# batchX, batchy = train_iterator.next()\n",
    "# print('Train Batch shape=%s, min=%.3f, max=%.3f' % (batchX.shape, batchX.min(), batchX.max()))\n",
    "\n",
    "# batchX, batchy = validation_iterator.next()\n",
    "# print('Validation Batch shape=%s, min=%.3f, max=%.3f' % (batchX.shape, batchX.min(), batchX.max()))\n",
    "\n",
    "# batchX, batchy = test_iterator.next()\n",
    "# print('Test Batch shape=%s, min=%.3f, max=%.3f' % (batchX.shape, batchX.min(), batchX.max()))"
   ]
  },
  {
   "cell_type": "code",
   "execution_count": null,
   "metadata": {
    "id": "JllaZG-DjCFv"
   },
   "outputs": [],
   "source": [
    "# # Evaluate the model\n",
    "# _, acc = model.evaluate_generator(test_iterator, steps=len(test_iterator), verbose=0)\n",
    "# print('Test Accuracy: %.3f' % (acc * 100))"
   ]
  },
  {
   "cell_type": "markdown",
   "metadata": {
    "id": "Af3cjs7aoxsP"
   },
   "source": [
    "### 4. Model assessment"
   ]
  },
  {
   "cell_type": "code",
   "execution_count": null,
   "metadata": {
    "id": "CGQ9yM3al8nh"
   },
   "outputs": [],
   "source": []
  },
  {
   "cell_type": "code",
   "execution_count": null,
   "metadata": {
    "id": "TlRU4Wj9l8x-"
   },
   "outputs": [],
   "source": []
  },
  {
   "cell_type": "markdown",
   "metadata": {
    "id": "NMAoTI6do7Ht"
   },
   "source": [
    "### 5. Deployment"
   ]
  },
  {
   "cell_type": "code",
   "execution_count": null,
   "metadata": {
    "id": "Fy0Q2hcDo-Qv"
   },
   "outputs": [],
   "source": []
  },
  {
   "cell_type": "markdown",
   "metadata": {
    "id": "3pBPw1RvmGgf"
   },
   "source": [
    "Example\n",
    "https://machinelearningmastery.com/how-to-perform-face-detection-with-classical-and-deep-learning-methods-in-python-with-keras/\n",
    "\n",
    "Problems websites\n",
    "\n",
    "https://colab.research.google.com/github/google/eng-edu/blob/master/ml/pc/exercises/image_classification_part1.ipynb\n",
    "\n",
    "https://github.com/python-pillow/Pillow/issues/1006"
   ]
  }
 ],
 "metadata": {
  "colab": {
   "collapsed_sections": [],
   "name": "Project DL.ipynb",
   "provenance": [],
   "toc_visible": true
  },
  "kernelspec": {
   "display_name": "Python 3",
   "language": "python",
   "name": "python3"
  },
  "language_info": {
   "codemirror_mode": {
    "name": "ipython",
    "version": 3
   },
   "file_extension": ".py",
   "mimetype": "text/x-python",
   "name": "python",
   "nbconvert_exporter": "python",
   "pygments_lexer": "ipython3",
   "version": "3.8.5"
  }
 },
 "nbformat": 4,
 "nbformat_minor": 1
}
