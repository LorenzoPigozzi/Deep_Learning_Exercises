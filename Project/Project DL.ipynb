{
 "cells": [
  {
   "cell_type": "markdown",
   "metadata": {
    "id": "7VsY8M4nlrGe"
   },
   "source": [
    "# Deep Learning Project\n",
    "## Mask detection\n",
    "\n",
    "Group members:\n",
    "- Lorenzo Pigozzi\t--- m20200745\n",
    "- Marta\n",
    "- Gustavo\n",
    "- Salim\n",
    "\n",
    "\n"
   ]
  },
  {
   "cell_type": "markdown",
   "metadata": {
    "id": "ujYp8uilmSD1"
   },
   "source": [
    "### Steps\n",
    "1.\tImporting data and setting the directions \n",
    "2.\tBrief data preprocessing       \n",
    "3.\tModel architecture \n",
    "4.  Model assessment      \n",
    "5.  Deployment"
   ]
  },
  {
   "cell_type": "markdown",
   "metadata": {
    "id": "witmie_SnYza"
   },
   "source": [
    "### 1. Importing libraries and setting the directions <a class=\"anchor\" id=\"1\"></a>"
   ]
  },
  {
   "cell_type": "code",
   "execution_count": 1,
   "metadata": {
    "id": "exD3P8mzl8Ji"
   },
   "outputs": [],
   "source": [
    "# importing needed libraries\n",
    "#%tensorflow_version 1.x\n",
    "import tensorflow\n",
    "import pandas as pd\n",
    "import numpy as np\n",
    "import keras\n",
    "import os, shutil\n",
    "import io\n",
    "# import sys\n",
    "# from PIL import Image\n",
    "# sys.modules['Image'] = Image \n",
    "\n",
    "\n",
    "# keras\n",
    "from keras.models import Sequential\n",
    "from keras.layers import Conv2D, Dropout, MaxPooling2D, Flatten, Dense\n",
    "from keras.preprocessing.image import ImageDataGenerator\n",
    "from keras import optimizers\n",
    "from keras import callbacks \n",
    "\n",
    "# sklearn\n",
    "from sklearn.metrics import classification_report, confusion_matrix\n",
    "\n",
    "# matplotlib\n",
    "import matplotlib.pyplot as plt"
   ]
  },
  {
   "cell_type": "markdown",
   "metadata": {
    "id": "3k8HUA5ZoOpA"
   },
   "source": [
    "### 2. Model Architecture"
   ]
  },
  {
   "cell_type": "code",
   "execution_count": 31,
   "metadata": {
    "id": "Mw9HnGrTl8kH"
   },
   "outputs": [],
   "source": [
    "# Sequential model | Create linear stack of layers\n",
    "model = Sequential()\n",
    "\n",
    "# Convolutional layer | Conv2D\n",
    "model.add(Conv2D(24, (3, 3), activation='relu', input_shape=(150,150, 3)))\n",
    "model.add(MaxPooling2D((2, 2)))\n",
    "# model.add(Conv2D(64, (3, 3), activation='relu'))\n",
    "# model.add(MaxPooling2D((2, 2)))\n",
    "\n",
    "# Flatten output of Conv\n",
    "model.add(Flatten())\n",
    "model.add(Dropout(0.3))\n",
    "# Hidden layer\n",
    "model.add(Dense(40, activation='relu'))\n",
    "model.add(Dense(20, activation='relu'))\n",
    "# Output layer\n",
    "model.add(Dense(1, activation='sigmoid'))"
   ]
  },
  {
   "cell_type": "code",
   "execution_count": 32,
   "metadata": {
    "id": "vjTMhvaBNulG"
   },
   "outputs": [],
   "source": [
    "# compiling the model\n",
    "model.compile(optimizer = 'adam', \n",
    "              loss = 'binary_crossentropy',\n",
    "              metrics=['accuracy'])"
   ]
  },
  {
   "cell_type": "code",
   "execution_count": 9,
   "metadata": {
    "colab": {
     "base_uri": "https://localhost:8080/"
    },
    "executionInfo": {
     "elapsed": 570,
     "status": "ok",
     "timestamp": 1616104742922,
     "user": {
      "displayName": "ana marta silva",
      "photoUrl": "",
      "userId": "06374727522975360903"
     },
     "user_tz": 0
    },
    "id": "8KFLXQTYNvCn",
    "outputId": "67f86a40-df61-435b-f103-53f4a4c0204d"
   },
   "outputs": [
    {
     "name": "stdout",
     "output_type": "stream",
     "text": [
      "Model: \"sequential_1\"\n",
      "_________________________________________________________________\n",
      "Layer (type)                 Output Shape              Param #   \n",
      "=================================================================\n",
      "conv2d_1 (Conv2D)            (None, 148, 148, 24)      672       \n",
      "_________________________________________________________________\n",
      "max_pooling2d_1 (MaxPooling2 (None, 74, 74, 24)        0         \n",
      "_________________________________________________________________\n",
      "flatten_1 (Flatten)          (None, 131424)            0         \n",
      "_________________________________________________________________\n",
      "dropout_1 (Dropout)          (None, 131424)            0         \n",
      "_________________________________________________________________\n",
      "dense_2 (Dense)              (None, 32)                4205600   \n",
      "_________________________________________________________________\n",
      "dense_3 (Dense)              (None, 1)                 33        \n",
      "=================================================================\n",
      "Total params: 4,206,305\n",
      "Trainable params: 4,206,305\n",
      "Non-trainable params: 0\n",
      "_________________________________________________________________\n"
     ]
    }
   ],
   "source": [
    "# visualizing the model structure\n",
    "model.summary()"
   ]
  },
  {
   "cell_type": "code",
   "execution_count": 11,
   "metadata": {
    "id": "e0qmHJ3TI37t"
   },
   "outputs": [],
   "source": [
    "# scaling the data\n",
    "\n",
    "## DATA AUGMENTATION\n",
    "train_datagen = ImageDataGenerator(rescale = 1./255,\n",
    "                                   shear_range = 0.2,\n",
    "                                   zoom_range = 0.2,\n",
    "                                   horizontal_flip = True)\n",
    "# train_datagen = ImageDataGenerator(rescale = 1./255)\n",
    "validation_datagen = ImageDataGenerator(rescale = 1./255)\n",
    "test_datagen = ImageDataGenerator(rescale = 1./255)"
   ]
  },
  {
   "cell_type": "code",
   "execution_count": 33,
   "metadata": {
    "colab": {
     "base_uri": "https://localhost:8080/"
    },
    "executionInfo": {
     "elapsed": 740,
     "status": "ok",
     "timestamp": 1616104799395,
     "user": {
      "displayName": "ana marta silva",
      "photoUrl": "",
      "userId": "06374727522975360903"
     },
     "user_tz": 0
    },
    "id": "BD2vBwm9J6cJ",
    "outputId": "6c0c2bc5-f9fe-47ba-bbc3-1a1fd23f83c3"
   },
   "outputs": [
    {
     "name": "stdout",
     "output_type": "stream",
     "text": [
      "Found 1978 images belonging to 2 classes.\n",
      "Found 422 images belonging to 2 classes.\n",
      "Found 422 images belonging to 2 classes.\n"
     ]
    }
   ],
   "source": [
    "# importing the images\n",
    "# flow when numpy array input, flow_from_directory when the inputs are directly images\n",
    "\n",
    "training_set = train_datagen.flow_from_directory('train',\n",
    "                                                 target_size = (150, 150),\n",
    "                                                 batch_size = 46,\n",
    "                                                 color_mode=\"rgb\",\n",
    "                                                 class_mode = 'binary')\n",
    "\n",
    "validation_set = validation_datagen.flow_from_directory('validation', \n",
    "                                                        target_size = (150, 150),\n",
    "                                                        batch_size = 46,\n",
    "                                                        color_mode=\"rgb\",\n",
    "                                                        class_mode = 'binary',\n",
    "                                                       shuffle = False)\n",
    "\n",
    "test_set = test_datagen.flow_from_directory('test',\n",
    "                                            target_size = (150, 150),\n",
    "                                            batch_size = 46,\n",
    "                                            class_mode = 'binary',\n",
    "                                            shuffle = False)"
   ]
  },
  {
   "cell_type": "code",
   "execution_count": 34,
   "metadata": {
    "colab": {
     "base_uri": "https://localhost:8080/"
    },
    "executionInfo": {
     "elapsed": 1395949,
     "status": "ok",
     "timestamp": 1616106357853,
     "user": {
      "displayName": "ana marta silva",
      "photoUrl": "",
      "userId": "06374727522975360903"
     },
     "user_tz": 0
    },
    "id": "uxF4aRPyJaAT",
    "outputId": "4a2dc7e8-9ba9-4a5c-9c06-8339156d4af9",
    "scrolled": false
   },
   "outputs": [
    {
     "name": "stdout",
     "output_type": "stream",
     "text": [
      "Epoch 1/10\n",
      " 9/43 [=====>........................] - ETA: 1:29 - loss: 1.3217 - accuracy: 0.5386"
     ]
    },
    {
     "name": "stderr",
     "output_type": "stream",
     "text": [
      "C:\\Users\\lorep\\anaconda3\\envs\\deeplearning\\lib\\site-packages\\PIL\\Image.py:962: UserWarning: Palette images with Transparency expressed in bytes should be converted to RGBA images\n",
      "  warnings.warn(\n"
     ]
    },
    {
     "name": "stdout",
     "output_type": "stream",
     "text": [
      "43/43 [==============================] - 125s 3s/step - loss: 0.7693 - accuracy: 0.6375 - val_loss: 0.4636 - val_accuracy: 0.7962\n",
      "Epoch 2/10\n",
      "43/43 [==============================] - 123s 3s/step - loss: 0.4587 - accuracy: 0.7897 - val_loss: 0.4613 - val_accuracy: 0.7796\n",
      "Epoch 3/10\n",
      "43/43 [==============================] - 124s 3s/step - loss: 0.4286 - accuracy: 0.8033 - val_loss: 0.3992 - val_accuracy: 0.8128\n",
      "Epoch 4/10\n",
      "43/43 [==============================] - 117s 3s/step - loss: 0.3793 - accuracy: 0.8448 - val_loss: 0.3459 - val_accuracy: 0.8578\n",
      "Epoch 5/10\n",
      "43/43 [==============================] - 116s 3s/step - loss: 0.3325 - accuracy: 0.8650 - val_loss: 0.3667 - val_accuracy: 0.8460\n",
      "Epoch 6/10\n",
      "43/43 [==============================] - 916s 21s/step - loss: 0.3308 - accuracy: 0.8534 - val_loss: 0.4317 - val_accuracy: 0.8223\n",
      "Epoch 7/10\n",
      "43/43 [==============================] - 91s 2s/step - loss: 0.3035 - accuracy: 0.8761 - val_loss: 0.3909 - val_accuracy: 0.8460\n",
      "Epoch 8/10\n",
      "43/43 [==============================] - 121s 3s/step - loss: 0.2756 - accuracy: 0.8913 - val_loss: 0.3918 - val_accuracy: 0.8436\n",
      "Epoch 9/10\n",
      "43/43 [==============================] - 127s 3s/step - loss: 0.2665 - accuracy: 0.8918 - val_loss: 0.5490 - val_accuracy: 0.7749\n",
      "Epoch 10/10\n",
      "43/43 [==============================] - 120s 3s/step - loss: 0.2777 - accuracy: 0.8847 - val_loss: 0.4107 - val_accuracy: 0.8294\n"
     ]
    }
   ],
   "source": [
    "# fitting the model\n",
    "\n",
    "hist = model.fit(training_set,\n",
    "                 steps_per_epoch = 43,\n",
    "                 epochs = 10,\n",
    "                 validation_data = validation_set,\n",
    "                 validation_steps = len(validation_set)\n",
    "                )"
   ]
  },
  {
   "cell_type": "code",
   "execution_count": 35,
   "metadata": {},
   "outputs": [
    {
     "data": {
      "text/plain": [
       "{'masks': 0, 'no_masks': 1}"
      ]
     },
     "execution_count": 35,
     "metadata": {},
     "output_type": "execute_result"
    }
   ],
   "source": [
    "# displaying target labels\n",
    "training_set.class_indices"
   ]
  },
  {
   "cell_type": "code",
   "execution_count": 36,
   "metadata": {},
   "outputs": [
    {
     "data": {
      "image/png": "[encoded data removed]",
      "text/plain": [
       "<Figure size 432x288 with 1 Axes>"
      ]
     },
     "metadata": {
      "needs_background": "light"
     },
     "output_type": "display_data"
    },
    {
     "data": {
      "image/png": "[encoded data removed]",
      "text/plain": [
       "<Figure size 432x288 with 1 Axes>"
      ]
     },
     "metadata": {
      "needs_background": "light"
     },
     "output_type": "display_data"
    }
   ],
   "source": [
    "# displaying the accuracy and loss over the training epochs\n",
    "acc = hist.history['accuracy']\n",
    "val_acc = hist.history['val_accuracy']\n",
    "loss = hist.history['loss']\n",
    "val_loss = hist.history['val_loss']\n",
    "\n",
    "epochs = range(1, len(acc) +1)\n",
    "\n",
    "plt.plot(epochs, acc, 'bo', label='Training acc')\n",
    "plt.plot(epochs, val_acc, 'b', label='Validation acc')\n",
    "plt.title('Training and validation accuracy')\n",
    "plt.legend()\n",
    "plt.figure()\n",
    "\n",
    "plt.plot(epochs, loss, 'bo', label='Training loss')\n",
    "plt.plot(epochs, val_loss, 'b', label='Validation loss')\n",
    "plt.title('Training and validation loss')\n",
    "plt.legend()\n",
    "\n",
    "plt.show()"
   ]
  },
  {
   "cell_type": "code",
   "execution_count": 20,
   "metadata": {},
   "outputs": [],
   "source": [
    "Y_pred = model.predict(validation_set, 25)    # ceil(num_of_test_samples / batch_size)\n",
    "\n",
    "# changing the result as True and False\n",
    "Y_pred = (Y_pred>0.5)"
   ]
  },
  {
   "cell_type": "code",
   "execution_count": 21,
   "metadata": {},
   "outputs": [
    {
     "name": "stdout",
     "output_type": "stream",
     "text": [
      "Confusion matrix\n",
      "[[175  36]\n",
      " [ 29 182]]\n"
     ]
    }
   ],
   "source": [
    "# confusion matrix\n",
    "print('Confusion matrix')\n",
    "print(confusion_matrix(validation_set.classes, Y_pred))"
   ]
  },
  {
   "cell_type": "code",
   "execution_count": 22,
   "metadata": {},
   "outputs": [
    {
     "name": "stdout",
     "output_type": "stream",
     "text": [
      "Classification Report\n",
      "              precision    recall  f1-score   support\n",
      "\n",
      "        Mask       0.86      0.83      0.84       211\n",
      "     No Mask       0.83      0.86      0.85       211\n",
      "\n",
      "    accuracy                           0.85       422\n",
      "   macro avg       0.85      0.85      0.85       422\n",
      "weighted avg       0.85      0.85      0.85       422\n",
      "\n"
     ]
    }
   ],
   "source": [
    "# classification report\n",
    "print('Classification Report')\n",
    "target_names = ['Mask', 'No Mask']\n",
    "print(classification_report(validation_set.classes, Y_pred, target_names=target_names))"
   ]
  },
  {
   "cell_type": "markdown",
   "metadata": {},
   "source": [
    "## Tuning hyper Parameters"
   ]
  },
  {
   "cell_type": "code",
   "execution_count": 28,
   "metadata": {},
   "outputs": [
    {
     "name": "stdout",
     "output_type": "stream",
     "text": [
      "Found 1978 images belonging to 2 classes.\n",
      "Found 422 images belonging to 2 classes.\n",
      "Found 422 images belonging to 2 classes.\n"
     ]
    }
   ],
   "source": [
    "def create_model():\n",
    "    model = Sequential()\n",
    "    model.add(Conv2D(24, (3, 3), activation='relu', input_shape=(150,150, 3)))\n",
    "    model.add(MaxPooling2D((2, 2)))\n",
    "    model.add(Flatten())\n",
    "    model.add(Dropout(dropout_rate))\n",
    "    model.add(Dense(32, activation='relu'))\n",
    "    model.add(Dense(1, activation='sigmoid'))\n",
    "    # compiling the model\n",
    "    model.compile(optimizer = 'adam', \n",
    "                  loss = 'binary_crossentropy',\n",
    "                  metrics=['accuracy'])\n",
    "    return model\n",
    "\n",
    "training_set = train_datagen.flow_from_directory('train',\n",
    "                                                 target_size = (150, 150),\n",
    "                                                 batch_size = 46,\n",
    "                                                 color_mode=\"rgb\",\n",
    "                                                 class_mode = 'binary')\n",
    "validation_set = validation_datagen.flow_from_directory('validation', \n",
    "                                                        target_size = (150, 150),\n",
    "                                                        batch_size = 46,\n",
    "                                                        color_mode=\"rgb\",\n",
    "                                                        class_mode = 'binary',\n",
    "                                                       shuffle = False)\n",
    "test_set = test_datagen.flow_from_directory('test',\n",
    "                                            target_size = (150, 150),\n",
    "                                            batch_size = 46,\n",
    "                                            class_mode = 'binary',\n",
    "                                            shuffle = False)\n",
    "\n",
    "# hist = model.fit(training_set,\n",
    "#                  steps_per_epoch = 43,\n",
    "#                  epochs = 10,\n",
    "#                  validation_data = validation_set,\n",
    "#                  validation_steps = len(validation_set)\n",
    "#                 )"
   ]
  },
  {
   "cell_type": "code",
   "execution_count": 26,
   "metadata": {},
   "outputs": [],
   "source": [
    "from sklearn.model_selection import GridSearchCV"
   ]
  },
  {
   "cell_type": "code",
   "execution_count": 37,
   "metadata": {},
   "outputs": [],
   "source": [
    "# dropout_rate = [0.2, 0.4]\n",
    "# param_grid = dict(dropout_rate=dropout_rate)\n",
    "# grid = GridSearchCV(estimator=model(dropout_rate), param_grid=param_grid, n_jobs=-1, cv=3)\n",
    "# grid_result = grid.fit(training_set)"
   ]
  },
  {
   "cell_type": "code",
   "execution_count": null,
   "metadata": {},
   "outputs": [],
   "source": []
  },
  {
   "cell_type": "markdown",
   "metadata": {
    "id": "InD-J_p3V7nU"
   },
   "source": [
    "## Improving the NN"
   ]
  },
  {
   "cell_type": "code",
   "execution_count": null,
   "metadata": {
    "id": "EW6c7zH_pXEg"
   },
   "outputs": [],
   "source": [
    "### Code for DATA AUGMENTATION\n",
    "\n",
    "train_datagen = ImageDataGenerator(rescale = 1./255,\n",
    "                                   shear_range = 0.2,\n",
    "                                   zoom_range = 0.2,\n",
    "                                   horizontal_flip = True)\n",
    "# validation and test only rescaled\n",
    "validation_datagen = ImageDataGenerator(rescale = 1./255)\n",
    "test_datagen = ImageDataGenerator(rescale = 1./255)"
   ]
  },
  {
   "cell_type": "code",
   "execution_count": null,
   "metadata": {
    "id": "j4izwvWulNRk"
   },
   "outputs": [],
   "source": [
    "# Set callbacks to analyze the best number of epochs | Try 25,50, and 100\n",
    "\n",
    "earlystopping = callbacks.EarlyStopping(monitor =\"val_loss\",  \n",
    "                                          mode =\"min\", patience = 5,  \n",
    "                                          restore_best_weights = True) \n",
    "  \n",
    "history = model.fit(partial_images, partial_labels, batch_size = 128,  \n",
    "                      epochs = 25, validation_data =(X_val, y_val),  \n",
    "                      callbacks =[earlystopping]) "
   ]
  },
  {
   "cell_type": "code",
   "execution_count": null,
   "metadata": {
    "id": "-zUbCNS2joBT"
   },
   "outputs": [],
   "source": [
    "# Train the model for XXXXXX epochs\n",
    "#model.fit_generator(train_iterator, steps_per_epoch=len(train_iterator), epochs=XXXXXXX)"
   ]
  },
  {
   "cell_type": "code",
   "execution_count": null,
   "metadata": {},
   "outputs": [],
   "source": [
    "# # checking the information of the batch we split\n",
    "# # checking if it makes sense with the size of the images\n",
    "\n",
    "# batchX, batchy = train_iterator.next()\n",
    "# print('Train Batch shape=%s, min=%.3f, max=%.3f' % (batchX.shape, batchX.min(), batchX.max()))\n",
    "\n",
    "# batchX, batchy = validation_iterator.next()\n",
    "# print('Validation Batch shape=%s, min=%.3f, max=%.3f' % (batchX.shape, batchX.min(), batchX.max()))\n",
    "\n",
    "# batchX, batchy = test_iterator.next()\n",
    "# print('Test Batch shape=%s, min=%.3f, max=%.3f' % (batchX.shape, batchX.min(), batchX.max()))"
   ]
  },
  {
   "cell_type": "code",
   "execution_count": null,
   "metadata": {
    "id": "JllaZG-DjCFv"
   },
   "outputs": [],
   "source": [
    "# # Evaluate the model\n",
    "# _, acc = model.evaluate_generator(test_iterator, steps=len(test_iterator), verbose=0)\n",
    "# print('Test Accuracy: %.3f' % (acc * 100))"
   ]
  },
  {
   "cell_type": "markdown",
   "metadata": {
    "id": "Af3cjs7aoxsP"
   },
   "source": [
    "### 4. Model assessment"
   ]
  },
  {
   "cell_type": "code",
   "execution_count": 20,
   "metadata": {
    "id": "CGQ9yM3al8nh"
   },
   "outputs": [
    {
     "name": "stdout",
     "output_type": "stream",
     "text": [
      "WARNING:tensorflow:From <ipython-input-20-4605af2c8e89>:3: Model.predict_generator (from tensorflow.python.keras.engine.training) is deprecated and will be removed in a future version.\n",
      "Instructions for updating:\n",
      "Please use Model.predict, which supports generators.\n",
      "WARNING:tensorflow:Your input ran out of data; interrupting training. Make sure that your dataset or generator can generate at least `steps_per_epoch * epochs` batches (in this case, 25 batches). You may need to use the repeat() function when building your dataset.\n"
     ]
    }
   ],
   "source": [
    "# Predicting the test set\n",
    "\n",
    "Y_pred = model.predict_generator(test_set, 25)    # ceil(num_of_test_samples / batch_size)\n",
    "\n",
    "# changing the result as True and False\n",
    "Y_pred = (Y_pred>0.5)\n",
    "\n",
    "# if you have the last version of tensorflow, the predict_generator is deprecated.\n",
    "# you should use the predict method.\n",
    "# if you do not have the last version, you must use predict_generator"
   ]
  },
  {
   "cell_type": "code",
   "execution_count": 73,
   "metadata": {
    "id": "TlRU4Wj9l8x-"
   },
   "outputs": [
    {
     "data": {
      "text/plain": [
       "(422, 1)"
      ]
     },
     "execution_count": 73,
     "metadata": {},
     "output_type": "execute_result"
    }
   ],
   "source": [
    "Y_pred.shape\n",
    "# test_set.classes.shape"
   ]
  },
  {
   "cell_type": "code",
   "execution_count": 74,
   "metadata": {},
   "outputs": [
    {
     "name": "stdout",
     "output_type": "stream",
     "text": [
      "Confusion matrix\n",
      "[[179  32]\n",
      " [ 34 177]]\n"
     ]
    }
   ],
   "source": [
    "# confusion matrix\n",
    "print('Confusion matrix')\n",
    "print(confusion_matrix(test_set.classes, Y_pred))"
   ]
  },
  {
   "cell_type": "code",
   "execution_count": 21,
   "metadata": {},
   "outputs": [
    {
     "name": "stdout",
     "output_type": "stream",
     "text": [
      "Classification Report\n",
      "              precision    recall  f1-score   support\n",
      "\n",
      "        Mask       0.79      0.93      0.86       211\n",
      "     No Mask       0.92      0.75      0.83       211\n",
      "\n",
      "    accuracy                           0.84       422\n",
      "   macro avg       0.86      0.84      0.84       422\n",
      "weighted avg       0.86      0.84      0.84       422\n",
      "\n"
     ]
    }
   ],
   "source": [
    "# classification report\n",
    "print('Classification Report')\n",
    "target_names = ['Mask', 'No Mask']\n",
    "print(classification_report(test_set.classes, Y_pred, target_names=target_names))"
   ]
  },
  {
   "cell_type": "markdown",
   "metadata": {
    "id": "NMAoTI6do7Ht"
   },
   "source": [
    "### 5. Deployment"
   ]
  },
  {
   "cell_type": "code",
   "execution_count": null,
   "metadata": {
    "id": "Fy0Q2hcDo-Qv"
   },
   "outputs": [],
   "source": []
  },
  {
   "cell_type": "markdown",
   "metadata": {
    "id": "3pBPw1RvmGgf"
   },
   "source": [
    "Example\n",
    "https://machinelearningmastery.com/how-to-perform-face-detection-with-classical-and-deep-learning-methods-in-python-with-keras/\n",
    "\n",
    "Problems websites\n",
    "\n",
    "https://colab.research.google.com/github/google/eng-edu/blob/master/ml/pc/exercises/image_classification_part1.ipynb\n",
    "\n",
    "https://github.com/python-pillow/Pillow/issues/1006"
   ]
  }
 ],
 "metadata": {
  "colab": {
   "collapsed_sections": [],
   "name": "Project DL.ipynb",
   "provenance": [],
   "toc_visible": true
  },
  "kernelspec": {
   "display_name": "Python 3",
   "language": "python",
   "name": "python3"
  },
  "language_info": {
   "codemirror_mode": {
    "name": "ipython",
    "version": 3
   },
   "file_extension": ".py",
   "mimetype": "text/x-python",
   "name": "python",
   "nbconvert_exporter": "python",
   "pygments_lexer": "ipython3",
   "version": "3.8.8"
  }
 },
 "nbformat": 4,
 "nbformat_minor": 1
}
