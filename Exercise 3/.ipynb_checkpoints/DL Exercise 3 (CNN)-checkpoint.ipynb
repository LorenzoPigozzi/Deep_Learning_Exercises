{
 "cells": [
  {
   "cell_type": "markdown",
   "id": "occasional-sarah",
   "metadata": {},
   "source": [
    "# Deep Learning Exercise 3\n",
    "\n",
    "## Week 4\n",
    "\n",
    "### Convolutional Neural Network"
   ]
  },
  {
   "cell_type": "code",
   "execution_count": 1,
   "id": "coastal-veteran",
   "metadata": {},
   "outputs": [],
   "source": [
    "# importing needed libraries\n",
    "import pandas as pd\n",
    "import numpy as np\n",
    "import keras\n",
    "\n",
    "# keras\n",
    "from keras.models import Sequential\n",
    "from keras.layers import Conv2D\n",
    "from keras.layers import MaxPooling2D\n",
    "from keras.layers import Flatten\n",
    "from keras.layers import Dense\n",
    "from keras.preprocessing.image import ImageDataGenerator"
   ]
  },
  {
   "cell_type": "markdown",
   "id": "vocational-pakistan",
   "metadata": {},
   "source": [
    "### Data augmentation"
   ]
  },
  {
   "cell_type": "code",
   "execution_count": 2,
   "id": "generic-diary",
   "metadata": {},
   "outputs": [],
   "source": [
    "# defining parameters of Data Aumegmentation for the import of the train and test datasets\n",
    "# for the train set, applying also some transformations\n",
    "train_datagen = ImageDataGenerator(rescale = 1./255,\n",
    "                                   shear_range = 0.2,\n",
    "                                   zoom_range = 0.2,\n",
    "                                   horizontal_flip = True)\n",
    "# test set only rescaled\n",
    "test_datagen = ImageDataGenerator(rescale = 1./255)"
   ]
  },
  {
   "cell_type": "markdown",
   "id": "digital-person",
   "metadata": {},
   "source": [
    "### Importing the data"
   ]
  },
  {
   "cell_type": "code",
   "execution_count": 3,
   "id": "fallen-charity",
   "metadata": {},
   "outputs": [
    {
     "name": "stdout",
     "output_type": "stream",
     "text": [
      "Found 8000 images belonging to 2 classes.\n",
      "Found 2000 images belonging to 2 classes.\n"
     ]
    }
   ],
   "source": [
    "# importing the datasets\n",
    "training_set = train_datagen.flow_from_directory('dataset/training_set', \n",
    "                                                 target_size = (64, 64),\n",
    "                                                 batch_size = 32,\n",
    "                                                 class_mode = 'binary')\n",
    "\n",
    "test_set = test_datagen.flow_from_directory('dataset/test_set',\n",
    "                                            target_size = (64, 64),\n",
    "                                            batch_size = 32,\n",
    "                                            class_mode = 'binary')"
   ]
  },
  {
   "cell_type": "code",
   "execution_count": 4,
   "id": "green-breakdown",
   "metadata": {},
   "outputs": [
    {
     "data": {
      "text/plain": [
       "<tensorflow.python.keras.preprocessing.image.DirectoryIterator at 0x1e65fa7e970>"
      ]
     },
     "execution_count": 4,
     "metadata": {},
     "output_type": "execute_result"
    }
   ],
   "source": [
    "training_set"
   ]
  },
  {
   "cell_type": "markdown",
   "id": "vocational-module",
   "metadata": {},
   "source": [
    "### Building a CNN from scratch"
   ]
  },
  {
   "cell_type": "code",
   "execution_count": 5,
   "id": "oriented-pipeline",
   "metadata": {},
   "outputs": [],
   "source": [
    "# initializing an empty model\n",
    "model = Sequential()\n",
    "\n",
    "# creating a Convolutional layer with 32 neurons, \n",
    "# filters of size (3,3), \n",
    "# receiving an input with space (64,64,3), \n",
    "# with activation relu\n",
    "model.add(Conv2D(32, (3,3), input_shape = (64,64,3) , activation = 'relu'))\n",
    "# creating a Pooling layer: each window (pool) has size (2,2)\n",
    "model.add(MaxPooling2D(pool_size = (2,2)))\n",
    "# adding a convolutional layer\n",
    "model.add(Conv2D(32, (3,3), activation = 'relu'))\n",
    "# adding a pooling layer\n",
    "model.add(MaxPooling2D(pool_size = (2,2)))\n",
    "#adding a Flatten layer\n",
    "model.add(Flatten())\n",
    "\n",
    "# Fully connected layer\n",
    "# adding a dense layer\n",
    "model.add(Dense(128, activation = 'relu'))\n",
    "# adding an output layer\n",
    "model.add(Dense(1, activation = 'sigmoid'))\n",
    "\n",
    "\n",
    "# compiling the created model\n",
    "model.compile(optimizer = 'adam', \n",
    "              loss = 'binary_crossentropy',\n",
    "              metrics = 'accuracy')"
   ]
  },
  {
   "cell_type": "markdown",
   "id": "trying-compilation",
   "metadata": {},
   "source": [
    "### Fitting the CNN"
   ]
  },
  {
   "cell_type": "code",
   "execution_count": 6,
   "id": "overall-transport",
   "metadata": {},
   "outputs": [
    {
     "name": "stdout",
     "output_type": "stream",
     "text": [
      "WARNING:tensorflow:From <ipython-input-6-35f3e9246507>:1: Model.fit_generator (from tensorflow.python.keras.engine.training) is deprecated and will be removed in a future version.\n",
      "Instructions for updating:\n",
      "Please use Model.fit, which supports generators.\n",
      "Epoch 1/25\n",
      "250/250 [==============================] - 110s 439ms/step - loss: 0.6738 - accuracy: 0.5661 - val_loss: 0.6601 - val_accuracy: 0.6150\n",
      "Epoch 2/25\n",
      "250/250 [==============================] - 69s 275ms/step - loss: 0.6088 - accuracy: 0.6654 - val_loss: 0.5691 - val_accuracy: 0.7190\n",
      "Epoch 3/25\n",
      "250/250 [==============================] - 69s 276ms/step - loss: 0.5670 - accuracy: 0.7046 - val_loss: 0.5529 - val_accuracy: 0.7215\n",
      "Epoch 4/25\n",
      "250/250 [==============================] - 71s 286ms/step - loss: 0.5241 - accuracy: 0.7339 - val_loss: 0.5280 - val_accuracy: 0.7325\n",
      "Epoch 5/25\n",
      "250/250 [==============================] - 72s 286ms/step - loss: 0.5014 - accuracy: 0.7531 - val_loss: 0.5231 - val_accuracy: 0.7450\n",
      "Epoch 6/25\n",
      "250/250 [==============================] - 71s 283ms/step - loss: 0.4809 - accuracy: 0.7644 - val_loss: 0.4822 - val_accuracy: 0.7710\n",
      "Epoch 7/25\n",
      "250/250 [==============================] - 70s 281ms/step - loss: 0.4689 - accuracy: 0.7797 - val_loss: 0.4700 - val_accuracy: 0.7760\n",
      "Epoch 8/25\n",
      "250/250 [==============================] - 69s 277ms/step - loss: 0.4524 - accuracy: 0.7806 - val_loss: 0.4741 - val_accuracy: 0.7810\n",
      "Epoch 9/25\n",
      "250/250 [==============================] - 69s 275ms/step - loss: 0.4441 - accuracy: 0.7885 - val_loss: 0.4824 - val_accuracy: 0.7775\n",
      "Epoch 10/25\n",
      "250/250 [==============================] - 70s 282ms/step - loss: 0.4243 - accuracy: 0.7999 - val_loss: 0.4752 - val_accuracy: 0.7770\n",
      "Epoch 11/25\n",
      "250/250 [==============================] - 71s 282ms/step - loss: 0.4130 - accuracy: 0.8036 - val_loss: 0.4770 - val_accuracy: 0.7840\n",
      "Epoch 12/25\n",
      "250/250 [==============================] - 71s 282ms/step - loss: 0.3862 - accuracy: 0.8234 - val_loss: 0.4989 - val_accuracy: 0.7630\n",
      "Epoch 13/25\n",
      "250/250 [==============================] - 68s 272ms/step - loss: 0.3880 - accuracy: 0.8225 - val_loss: 0.4511 - val_accuracy: 0.8000\n",
      "Epoch 14/25\n",
      "250/250 [==============================] - 69s 275ms/step - loss: 0.3697 - accuracy: 0.8341 - val_loss: 0.4495 - val_accuracy: 0.7925\n",
      "Epoch 15/25\n",
      "250/250 [==============================] - 67s 268ms/step - loss: 0.3597 - accuracy: 0.8370 - val_loss: 0.4549 - val_accuracy: 0.7975\n",
      "Epoch 16/25\n",
      "250/250 [==============================] - 68s 272ms/step - loss: 0.3368 - accuracy: 0.8535 - val_loss: 0.4765 - val_accuracy: 0.7950\n",
      "Epoch 17/25\n",
      "250/250 [==============================] - 71s 282ms/step - loss: 0.3298 - accuracy: 0.8553 - val_loss: 0.5117 - val_accuracy: 0.7830\n",
      "Epoch 18/25\n",
      "250/250 [==============================] - 69s 274ms/step - loss: 0.3241 - accuracy: 0.8566 - val_loss: 0.5201 - val_accuracy: 0.7765\n",
      "Epoch 19/25\n",
      "250/250 [==============================] - 68s 274ms/step - loss: 0.2995 - accuracy: 0.8720 - val_loss: 0.5620 - val_accuracy: 0.7830\n",
      "Epoch 20/25\n",
      "250/250 [==============================] - 69s 277ms/step - loss: 0.2876 - accuracy: 0.8777 - val_loss: 0.4892 - val_accuracy: 0.7885\n",
      "Epoch 21/25\n",
      "250/250 [==============================] - 69s 276ms/step - loss: 0.2795 - accuracy: 0.8781 - val_loss: 0.5175 - val_accuracy: 0.7980\n",
      "Epoch 22/25\n",
      "250/250 [==============================] - 68s 271ms/step - loss: 0.2615 - accuracy: 0.8885 - val_loss: 0.4919 - val_accuracy: 0.8105\n",
      "Epoch 23/25\n",
      "250/250 [==============================] - 70s 278ms/step - loss: 0.2408 - accuracy: 0.8994 - val_loss: 0.5295 - val_accuracy: 0.8015\n",
      "Epoch 24/25\n",
      "250/250 [==============================] - 67s 269ms/step - loss: 0.2378 - accuracy: 0.9019 - val_loss: 0.6245 - val_accuracy: 0.7865\n",
      "Epoch 25/25\n",
      "250/250 [==============================] - 70s 279ms/step - loss: 0.2222 - accuracy: 0.9095 - val_loss: 0.5599 - val_accuracy: 0.8015\n"
     ]
    }
   ],
   "source": [
    "hist=model.fit_generator(training_set,\n",
    "                        steps_per_epoch = 250, # if batch_size=1 -> steps_per_epoch=8000\n",
    "                        epochs = 25,\n",
    "                        validation_data = test_set,\n",
    "                        validation_steps = 63)"
   ]
  },
  {
   "cell_type": "code",
   "execution_count": null,
   "id": "living-matter",
   "metadata": {},
   "outputs": [],
   "source": []
  },
  {
   "cell_type": "code",
   "execution_count": null,
   "id": "cleared-manchester",
   "metadata": {},
   "outputs": [],
   "source": []
  },
  {
   "cell_type": "code",
   "execution_count": null,
   "id": "romantic-lexington",
   "metadata": {},
   "outputs": [],
   "source": []
  },
  {
   "cell_type": "code",
   "execution_count": null,
   "id": "golden-creator",
   "metadata": {},
   "outputs": [],
   "source": []
  },
  {
   "cell_type": "code",
   "execution_count": null,
   "id": "curious-morris",
   "metadata": {},
   "outputs": [],
   "source": []
  },
  {
   "cell_type": "code",
   "execution_count": null,
   "id": "direct-review",
   "metadata": {},
   "outputs": [],
   "source": []
  },
  {
   "cell_type": "code",
   "execution_count": null,
   "id": "familiar-reception",
   "metadata": {},
   "outputs": [],
   "source": []
  },
  {
   "cell_type": "code",
   "execution_count": null,
   "id": "amber-amateur",
   "metadata": {},
   "outputs": [],
   "source": []
  },
  {
   "cell_type": "code",
   "execution_count": null,
   "id": "sensitive-pound",
   "metadata": {},
   "outputs": [],
   "source": []
  },
  {
   "cell_type": "code",
   "execution_count": null,
   "id": "sufficient-premiere",
   "metadata": {},
   "outputs": [],
   "source": []
  }
 ],
 "metadata": {
  "kernelspec": {
   "display_name": "Python 3",
   "language": "python",
   "name": "python3"
  },
  "language_info": {
   "codemirror_mode": {
    "name": "ipython",
    "version": 3
   },
   "file_extension": ".py",
   "mimetype": "text/x-python",
   "name": "python",
   "nbconvert_exporter": "python",
   "pygments_lexer": "ipython3",
   "version": "3.8.5"
  }
 },
 "nbformat": 4,
 "nbformat_minor": 5
}
