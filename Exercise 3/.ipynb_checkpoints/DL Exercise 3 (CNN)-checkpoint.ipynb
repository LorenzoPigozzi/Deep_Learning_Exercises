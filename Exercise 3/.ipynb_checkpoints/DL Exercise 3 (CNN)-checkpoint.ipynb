{
 "cells": [
  {
   "cell_type": "markdown",
   "id": "occasional-sarah",
   "metadata": {},
   "source": [
    "# Deep Learning Exercise 3\n",
    "\n",
    "## Week 4\n",
    "\n",
    "### **Convolutional Neural Network**"
   ]
  },
  {
   "cell_type": "markdown",
   "id": "hollow-mixture",
   "metadata": {},
   "source": [
    "<a class=\"anchor\" id=\"0.1\"></a>\n",
    "## Steps\n",
    "\n",
    "1.\t[Data Augmentation](#1)   \n",
    "2.\t[Importing the data](#2)       \n",
    "3.\t[Building a CNN from scratch](#3)  \n",
    "4.  [Fitting the CNN](#4)      \n",
    "5.  [Predicting the target of the test set](#5)\n",
    "6.  [Prediction assessment](#6)"
   ]
  },
  {
   "cell_type": "code",
   "execution_count": 20,
   "id": "coastal-veteran",
   "metadata": {},
   "outputs": [],
   "source": [
    "# importing needed libraries\n",
    "import pandas as pd\n",
    "import numpy as np\n",
    "import keras\n",
    "\n",
    "# keras\n",
    "from keras.models import Sequential\n",
    "from keras.layers import Conv2D\n",
    "from keras.layers import MaxPooling2D\n",
    "from keras.layers import Flatten\n",
    "from keras.layers import Dense\n",
    "from keras.preprocessing.image import ImageDataGenerator\n",
    "from keras import optimizers\n",
    "\n",
    "# sklearn\n",
    "from sklearn.metrics import classification_report, confusion_matrix\n",
    "\n",
    "# matplotlib\n",
    "import matplotlib.pyplot as plt"
   ]
  },
  {
   "cell_type": "markdown",
   "id": "saving-asbestos",
   "metadata": {},
   "source": [
    "### 1. Data augmentation <a class=\"anchor\" id=\"1\"></a>"
   ]
  },
  {
   "cell_type": "code",
   "execution_count": 2,
   "id": "chief-valley",
   "metadata": {},
   "outputs": [],
   "source": [
    "# defining parameters of Data Aumegmentation for the import of the train and test datasets\n",
    "# for the train set, applying also some transformations\n",
    "train_datagen = ImageDataGenerator(rescale = 1./255,\n",
    "                                   shear_range = 0.2,\n",
    "                                   zoom_range = 0.2,\n",
    "                                   horizontal_flip = True)\n",
    "# test set only rescaled\n",
    "test_datagen = ImageDataGenerator(rescale = 1./255)"
   ]
  },
  {
   "cell_type": "markdown",
   "id": "attached-invitation",
   "metadata": {},
   "source": [
    "### 2. Importing the data <a class=\"anchor\" id=\"2\"></a>"
   ]
  },
  {
   "cell_type": "code",
   "execution_count": 3,
   "id": "fallen-charity",
   "metadata": {},
   "outputs": [
    {
     "name": "stdout",
     "output_type": "stream",
     "text": [
      "Found 8000 images belonging to 2 classes.\n",
      "Found 2000 images belonging to 2 classes.\n"
     ]
    }
   ],
   "source": [
    "# importing the datasets\n",
    "training_set = train_datagen.flow_from_directory('dataset/training_set', \n",
    "                                                 target_size = (64, 64),\n",
    "                                                 batch_size = 32,\n",
    "                                                 class_mode = 'binary')\n",
    "\n",
    "test_set = test_datagen.flow_from_directory('dataset/test_set',\n",
    "                                            target_size = (64, 64),\n",
    "                                            batch_size = 32,\n",
    "                                            class_mode = 'binary')"
   ]
  },
  {
   "cell_type": "code",
   "execution_count": 4,
   "id": "warming-craps",
   "metadata": {},
   "outputs": [
    {
     "data": {
      "text/plain": [
       "<tensorflow.python.keras.preprocessing.image.DirectoryIterator at 0x1e65fa7e970>"
      ]
     },
     "execution_count": 4,
     "metadata": {},
     "output_type": "execute_result"
    }
   ],
   "source": [
    "training_set"
   ]
  },
  {
   "cell_type": "markdown",
   "id": "moved-membership",
   "metadata": {},
   "source": [
    "### 3. Building a CNN from scratch <a class=\"anchor\" id=\"3\"></a>"
   ]
  },
  {
   "cell_type": "code",
   "execution_count": 5,
   "id": "atomic-angle",
   "metadata": {},
   "outputs": [],
   "source": [
    "# initializing an empty model\n",
    "model = Sequential()\n",
    "\n",
    "# creating a Convolutional layer with 32 neurons, \n",
    "# filters of size (3,3), \n",
    "# receiving an input with space (64,64,3), \n",
    "# with activation relu\n",
    "model.add(Conv2D(32, (3,3), input_shape = (64,64,3) , activation = 'relu'))\n",
    "# creating a Pooling layer: each window (pool) has size (2,2)\n",
    "model.add(MaxPooling2D(pool_size = (2,2)))\n",
    "# adding a convolutional layer\n",
    "model.add(Conv2D(32, (3,3), activation = 'relu'))\n",
    "# adding a pooling layer\n",
    "model.add(MaxPooling2D(pool_size = (2,2)))\n",
    "#adding a Flatten layer\n",
    "model.add(Flatten())\n",
    "\n",
    "# Fully connected layer\n",
    "# adding a dense layer\n",
    "model.add(Dense(128, activation = 'relu'))\n",
    "# adding an output layer\n",
    "model.add(Dense(1, activation = 'sigmoid'))\n",
    "\n",
    "\n",
    "# compiling the created model\n",
    "model.compile(optimizer = 'adam', \n",
    "              loss = 'binary_crossentropy',\n",
    "              metrics = 'accuracy')"
   ]
  },
  {
   "cell_type": "code",
   "execution_count": 19,
   "id": "breathing-jewel",
   "metadata": {},
   "outputs": [
    {
     "name": "stdout",
     "output_type": "stream",
     "text": [
      "Model: \"sequential\"\n",
      "_________________________________________________________________\n",
      "Layer (type)                 Output Shape              Param #   \n",
      "=================================================================\n",
      "conv2d (Conv2D)              (None, 62, 62, 32)        896       \n",
      "_________________________________________________________________\n",
      "max_pooling2d (MaxPooling2D) (None, 31, 31, 32)        0         \n",
      "_________________________________________________________________\n",
      "conv2d_1 (Conv2D)            (None, 29, 29, 32)        9248      \n",
      "_________________________________________________________________\n",
      "max_pooling2d_1 (MaxPooling2 (None, 14, 14, 32)        0         \n",
      "_________________________________________________________________\n",
      "flatten (Flatten)            (None, 6272)              0         \n",
      "_________________________________________________________________\n",
      "dense (Dense)                (None, 128)               802944    \n",
      "_________________________________________________________________\n",
      "dense_1 (Dense)              (None, 1)                 129       \n",
      "=================================================================\n",
      "Total params: 813,217\n",
      "Trainable params: 813,217\n",
      "Non-trainable params: 0\n",
      "_________________________________________________________________\n"
     ]
    }
   ],
   "source": [
    "model.summary()"
   ]
  },
  {
   "cell_type": "markdown",
   "id": "continued-mixer",
   "metadata": {},
   "source": [
    "### 4. Fitting the CNN <a class=\"anchor\" id=\"4\"></a>"
   ]
  },
  {
   "cell_type": "code",
   "execution_count": 6,
   "id": "modular-dutch",
   "metadata": {
    "scrolled": true
   },
   "outputs": [
    {
     "name": "stdout",
     "output_type": "stream",
     "text": [
      "WARNING:tensorflow:From <ipython-input-6-35f3e9246507>:1: Model.fit_generator (from tensorflow.python.keras.engine.training) is deprecated and will be removed in a future version.\n",
      "Instructions for updating:\n",
      "Please use Model.fit, which supports generators.\n",
      "Epoch 1/25\n",
      "250/250 [==============================] - 110s 439ms/step - loss: 0.6738 - accuracy: 0.5661 - val_loss: 0.6601 - val_accuracy: 0.6150\n",
      "Epoch 2/25\n",
      "250/250 [==============================] - 69s 275ms/step - loss: 0.6088 - accuracy: 0.6654 - val_loss: 0.5691 - val_accuracy: 0.7190\n",
      "Epoch 3/25\n",
      "250/250 [==============================] - 69s 276ms/step - loss: 0.5670 - accuracy: 0.7046 - val_loss: 0.5529 - val_accuracy: 0.7215\n",
      "Epoch 4/25\n",
      "250/250 [==============================] - 71s 286ms/step - loss: 0.5241 - accuracy: 0.7339 - val_loss: 0.5280 - val_accuracy: 0.7325\n",
      "Epoch 5/25\n",
      "250/250 [==============================] - 72s 286ms/step - loss: 0.5014 - accuracy: 0.7531 - val_loss: 0.5231 - val_accuracy: 0.7450\n",
      "Epoch 6/25\n",
      "250/250 [==============================] - 71s 283ms/step - loss: 0.4809 - accuracy: 0.7644 - val_loss: 0.4822 - val_accuracy: 0.7710\n",
      "Epoch 7/25\n",
      "250/250 [==============================] - 70s 281ms/step - loss: 0.4689 - accuracy: 0.7797 - val_loss: 0.4700 - val_accuracy: 0.7760\n",
      "Epoch 8/25\n",
      "250/250 [==============================] - 69s 277ms/step - loss: 0.4524 - accuracy: 0.7806 - val_loss: 0.4741 - val_accuracy: 0.7810\n",
      "Epoch 9/25\n",
      "250/250 [==============================] - 69s 275ms/step - loss: 0.4441 - accuracy: 0.7885 - val_loss: 0.4824 - val_accuracy: 0.7775\n",
      "Epoch 10/25\n",
      "250/250 [==============================] - 70s 282ms/step - loss: 0.4243 - accuracy: 0.7999 - val_loss: 0.4752 - val_accuracy: 0.7770\n",
      "Epoch 11/25\n",
      "250/250 [==============================] - 71s 282ms/step - loss: 0.4130 - accuracy: 0.8036 - val_loss: 0.4770 - val_accuracy: 0.7840\n",
      "Epoch 12/25\n",
      "250/250 [==============================] - 71s 282ms/step - loss: 0.3862 - accuracy: 0.8234 - val_loss: 0.4989 - val_accuracy: 0.7630\n",
      "Epoch 13/25\n",
      "250/250 [==============================] - 68s 272ms/step - loss: 0.3880 - accuracy: 0.8225 - val_loss: 0.4511 - val_accuracy: 0.8000\n",
      "Epoch 14/25\n",
      "250/250 [==============================] - 69s 275ms/step - loss: 0.3697 - accuracy: 0.8341 - val_loss: 0.4495 - val_accuracy: 0.7925\n",
      "Epoch 15/25\n",
      "250/250 [==============================] - 67s 268ms/step - loss: 0.3597 - accuracy: 0.8370 - val_loss: 0.4549 - val_accuracy: 0.7975\n",
      "Epoch 16/25\n",
      "250/250 [==============================] - 68s 272ms/step - loss: 0.3368 - accuracy: 0.8535 - val_loss: 0.4765 - val_accuracy: 0.7950\n",
      "Epoch 17/25\n",
      "250/250 [==============================] - 71s 282ms/step - loss: 0.3298 - accuracy: 0.8553 - val_loss: 0.5117 - val_accuracy: 0.7830\n",
      "Epoch 18/25\n",
      "250/250 [==============================] - 69s 274ms/step - loss: 0.3241 - accuracy: 0.8566 - val_loss: 0.5201 - val_accuracy: 0.7765\n",
      "Epoch 19/25\n",
      "250/250 [==============================] - 68s 274ms/step - loss: 0.2995 - accuracy: 0.8720 - val_loss: 0.5620 - val_accuracy: 0.7830\n",
      "Epoch 20/25\n",
      "250/250 [==============================] - 69s 277ms/step - loss: 0.2876 - accuracy: 0.8777 - val_loss: 0.4892 - val_accuracy: 0.7885\n",
      "Epoch 21/25\n",
      "250/250 [==============================] - 69s 276ms/step - loss: 0.2795 - accuracy: 0.8781 - val_loss: 0.5175 - val_accuracy: 0.7980\n",
      "Epoch 22/25\n",
      "250/250 [==============================] - 68s 271ms/step - loss: 0.2615 - accuracy: 0.8885 - val_loss: 0.4919 - val_accuracy: 0.8105\n",
      "Epoch 23/25\n",
      "250/250 [==============================] - 70s 278ms/step - loss: 0.2408 - accuracy: 0.8994 - val_loss: 0.5295 - val_accuracy: 0.8015\n",
      "Epoch 24/25\n",
      "250/250 [==============================] - 67s 269ms/step - loss: 0.2378 - accuracy: 0.9019 - val_loss: 0.6245 - val_accuracy: 0.7865\n",
      "Epoch 25/25\n",
      "250/250 [==============================] - 70s 279ms/step - loss: 0.2222 - accuracy: 0.9095 - val_loss: 0.5599 - val_accuracy: 0.8015\n"
     ]
    }
   ],
   "source": [
    "hist=model.fit_generator(training_set,\n",
    "                        steps_per_epoch = 250, # if batch_size=1 -> steps_per_epoch=8000\n",
    "                        epochs = 25,\n",
    "                        validation_data = test_set,\n",
    "                        validation_steps = 63)"
   ]
  },
  {
   "cell_type": "code",
   "execution_count": 16,
   "id": "unusual-indonesia",
   "metadata": {},
   "outputs": [
    {
     "data": {
      "text/plain": [
       "{'cats': 0, 'dogs': 1}"
      ]
     },
     "execution_count": 16,
     "metadata": {},
     "output_type": "execute_result"
    }
   ],
   "source": [
    "# displaying target labels\n",
    "training_set.class_indices"
   ]
  },
  {
   "cell_type": "markdown",
   "id": "light-organization",
   "metadata": {},
   "source": [
    "### 5. Predicting the target of the test set <a class=\"anchor\" id=\"5\"></a>"
   ]
  },
  {
   "cell_type": "code",
   "execution_count": 7,
   "id": "living-matter",
   "metadata": {
    "scrolled": true
   },
   "outputs": [
    {
     "name": "stdout",
     "output_type": "stream",
     "text": [
      "WARNING:tensorflow:From <ipython-input-7-a34e2114d5e1>:1: Model.predict_generator (from tensorflow.python.keras.engine.training) is deprecated and will be removed in a future version.\n",
      "Instructions for updating:\n",
      "Please use Model.predict, which supports generators.\n"
     ]
    }
   ],
   "source": [
    "Y_pred = model.predict_generator(test_set, 63)"
   ]
  },
  {
   "cell_type": "code",
   "execution_count": 9,
   "id": "cleared-manchester",
   "metadata": {},
   "outputs": [],
   "source": [
    "# transforming the probability result in a binary output\n",
    "Y_pred = (Y_pred>0.5)"
   ]
  },
  {
   "cell_type": "markdown",
   "id": "answering-trustee",
   "metadata": {},
   "source": [
    "### 6. Prediction assessment <a class=\"anchor\" id=\"6\"></a>"
   ]
  },
  {
   "cell_type": "code",
   "execution_count": 12,
   "id": "romantic-lexington",
   "metadata": {},
   "outputs": [
    {
     "name": "stdout",
     "output_type": "stream",
     "text": [
      "Confusion matrix\n",
      "[[476 524]\n",
      " [437 563]]\n"
     ]
    }
   ],
   "source": [
    "# confusion matrix for prediction assessment \n",
    "print('Confusion matrix')\n",
    "print(confusion_matrix(test_set.classes, Y_pred))"
   ]
  },
  {
   "cell_type": "code",
   "execution_count": 13,
   "id": "golden-creator",
   "metadata": {},
   "outputs": [
    {
     "name": "stdout",
     "output_type": "stream",
     "text": [
      "Classification Report\n",
      "              precision    recall  f1-score   support\n",
      "\n",
      "        Cats       0.52      0.48      0.50      1000\n",
      "        Dogs       0.52      0.56      0.54      1000\n",
      "\n",
      "    accuracy                           0.52      2000\n",
      "   macro avg       0.52      0.52      0.52      2000\n",
      "weighted avg       0.52      0.52      0.52      2000\n",
      "\n"
     ]
    }
   ],
   "source": [
    "# computing the classification report of the predictions\n",
    "print('Classification Report')\n",
    "target_names = ['Cats', 'Dogs']\n",
    "print(classification_report(test_set.classes, Y_pred, target_names=target_names))"
   ]
  },
  {
   "cell_type": "code",
   "execution_count": 23,
   "id": "sufficient-premiere",
   "metadata": {},
   "outputs": [
    {
     "data": {
      "image/png": "[encoded data removed]",
      "text/plain": [
       "<Figure size 432x288 with 1 Axes>"
      ]
     },
     "metadata": {
      "needs_background": "light"
     },
     "output_type": "display_data"
    },
    {
     "data": {
      "image/png": "[encoded data removed]",
      "text/plain": [
       "<Figure size 432x288 with 1 Axes>"
      ]
     },
     "metadata": {
      "needs_background": "light"
     },
     "output_type": "display_data"
    }
   ],
   "source": [
    "# displaying the accuracy and loss over the training epochs\n",
    "acc = hist.history['accuracy']\n",
    "val_acc = hist.history['val_accuracy']\n",
    "loss = hist.history['loss']\n",
    "val_loss = hist.history['val_loss']\n",
    "\n",
    "epochs = range(1, len(acc) +1)\n",
    "\n",
    "plt.plot(epochs, acc, 'bo', label='Training acc')\n",
    "plt.plot(epochs, val_acc, 'b', label='Validation acc')\n",
    "plt.title('Training and validation accuracy')\n",
    "plt.legend()\n",
    "plt.figure()\n",
    "\n",
    "plt.plot(epochs, loss, 'bo', label='Training loss')\n",
    "plt.plot(epochs, val_loss, 'b', label='Validation loss')\n",
    "plt.title('Training and validation loss')\n",
    "plt.legend()\n",
    "\n",
    "plt.show()"
   ]
  },
  {
   "cell_type": "markdown",
   "id": "chinese-partition",
   "metadata": {},
   "source": [
    "### Notes\n",
    "An improvement that can be done is the addition of a dropout layer, in order to avoid overfitting.\n",
    "Usually data augmentation and dropout are used together in the model."
   ]
  },
  {
   "cell_type": "code",
   "execution_count": null,
   "id": "fifteen-infrastructure",
   "metadata": {},
   "outputs": [],
   "source": []
  }
 ],
 "metadata": {
  "kernelspec": {
   "display_name": "Python 3",
   "language": "python",
   "name": "python3"
  },
  "language_info": {
   "codemirror_mode": {
    "name": "ipython",
    "version": 3
   },
   "file_extension": ".py",
   "mimetype": "text/x-python",
   "name": "python",
   "nbconvert_exporter": "python",
   "pygments_lexer": "ipython3",
   "version": "3.8.5"
  }
 },
 "nbformat": 4,
 "nbformat_minor": 5
}
